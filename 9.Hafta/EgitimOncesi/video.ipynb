{
 "cells": [
  {
   "cell_type": "markdown",
   "metadata": {},
   "source": [
    "# Methodlar"
   ]
  },
  {
   "cell_type": "code",
   "execution_count": 6,
   "metadata": {},
   "outputs": [],
   "source": [
    "class Yazilimci():\n",
    "    def __init__(self,ad,soyad,numara,maas,diller):\n",
    "        self.ad = ad\n",
    "        self.soyad = soyad\n",
    "        self.numara = numara\n",
    "        self.maas = maas\n",
    "        self.diller = diller\n",
    "\n",
    "    def bilgileri_goster(self):\n",
    "        print(f\"\"\"\n",
    "        Çalışan Bilgisi: \n",
    "            Ad: {self.ad}\n",
    "            Soyad: {self.soyad}\n",
    "            Numara: {self.numara}\n",
    "            Maas: {self.maas}\n",
    "            Diller: {self.diller}\"\"\")\n",
    "        \n",
    "    def dil_ekle(self, yeni_dil):\n",
    "        print(\"Yeni dil eklendi.\")\n",
    "        self.diller.append(yeni_dil)\n",
    "    \n",
    "    def maas_yukselt(self, zam):\n",
    "        print(\"Zam yapılıyor.\")\n",
    "        self.maas += zam\n",
    "    "
   ]
  },
  {
   "cell_type": "code",
   "execution_count": 7,
   "metadata": {},
   "outputs": [],
   "source": [
    "yazilimci = Yazilimci(\"Miray\", \"Topcu\", 12345, 10000, [\"Python\",\"Java\"])\n"
   ]
  },
  {
   "cell_type": "code",
   "execution_count": 8,
   "metadata": {},
   "outputs": [
    {
     "name": "stdout",
     "output_type": "stream",
     "text": [
      "\n",
      "        Çalışan Bilgisi: \n",
      "            Ad: Miray\n",
      "            Soyad: Topcu\n",
      "            Numara: 12345\n",
      "            Maas: 10000\n",
      "            Diller: ['Python', 'Java']\n"
     ]
    }
   ],
   "source": [
    "yazilimci.bilgileri_goster()\n"
   ]
  },
  {
   "cell_type": "code",
   "execution_count": 9,
   "metadata": {},
   "outputs": [
    {
     "name": "stdout",
     "output_type": "stream",
     "text": [
      "Yeni dil eklendi.\n",
      "Zam yapılıyor.\n"
     ]
    }
   ],
   "source": [
    "yazilimci.dil_ekle(\"SQL\")\n",
    "yazilimci.maas_yukselt(5000)"
   ]
  },
  {
   "cell_type": "code",
   "execution_count": 10,
   "metadata": {},
   "outputs": [
    {
     "name": "stdout",
     "output_type": "stream",
     "text": [
      "\n",
      "        Çalışan Bilgisi: \n",
      "            Ad: Miray\n",
      "            Soyad: Topcu\n",
      "            Numara: 12345\n",
      "            Maas: 15000\n",
      "            Diller: ['Python', 'Java', 'SQL']\n"
     ]
    }
   ],
   "source": [
    "yazilimci.bilgileri_goster()"
   ]
  }
 ],
 "metadata": {
  "kernelspec": {
   "display_name": "Python 3",
   "language": "python",
   "name": "python3"
  },
  "language_info": {
   "codemirror_mode": {
    "name": "ipython",
    "version": 3
   },
   "file_extension": ".py",
   "mimetype": "text/x-python",
   "name": "python",
   "nbconvert_exporter": "python",
   "pygments_lexer": "ipython3",
   "version": "3.12.3"
  }
 },
 "nbformat": 4,
 "nbformat_minor": 2
}
