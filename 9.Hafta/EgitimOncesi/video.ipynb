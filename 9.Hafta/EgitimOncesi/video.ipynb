{
 "cells": [
  {
   "cell_type": "markdown",
   "metadata": {},
   "source": [
    "# Methodlar"
   ]
  },
  {
   "cell_type": "code",
   "execution_count": 6,
   "metadata": {},
   "outputs": [],
   "source": [
    "class Yazilimci():\n",
    "    def __init__(self,ad,soyad,numara,maas,diller):\n",
    "        self.ad = ad\n",
    "        self.soyad = soyad\n",
    "        self.numara = numara\n",
    "        self.maas = maas\n",
    "        self.diller = diller\n",
    "\n",
    "    def bilgileri_goster(self):\n",
    "        print(f\"\"\"\n",
    "        Çalışan Bilgisi: \n",
    "            Ad: {self.ad}\n",
    "            Soyad: {self.soyad}\n",
    "            Numara: {self.numara}\n",
    "            Maas: {self.maas}\n",
    "            Diller: {self.diller}\"\"\")\n",
    "        \n",
    "    def dil_ekle(self, yeni_dil):\n",
    "        print(\"Yeni dil eklendi.\")\n",
    "        self.diller.append(yeni_dil)\n",
    "    \n",
    "    def maas_yukselt(self, zam):\n",
    "        print(\"Zam yapılıyor.\")\n",
    "        self.maas += zam\n",
    "    "
   ]
  },
  {
   "cell_type": "code",
   "execution_count": 7,
   "metadata": {},
   "outputs": [],
   "source": [
    "yazilimci = Yazilimci(\"Miray\", \"Topcu\", 12345, 10000, [\"Python\",\"Java\"])\n"
   ]
  },
  {
   "cell_type": "code",
   "execution_count": 8,
   "metadata": {},
   "outputs": [
    {
     "name": "stdout",
     "output_type": "stream",
     "text": [
      "\n",
      "        Çalışan Bilgisi: \n",
      "            Ad: Miray\n",
      "            Soyad: Topcu\n",
      "            Numara: 12345\n",
      "            Maas: 10000\n",
      "            Diller: ['Python', 'Java']\n"
     ]
    }
   ],
   "source": [
    "yazilimci.bilgileri_goster()\n"
   ]
  },
  {
   "cell_type": "code",
   "execution_count": 9,
   "metadata": {},
   "outputs": [
    {
     "name": "stdout",
     "output_type": "stream",
     "text": [
      "Yeni dil eklendi.\n",
      "Zam yapılıyor.\n"
     ]
    }
   ],
   "source": [
    "yazilimci.dil_ekle(\"SQL\")\n",
    "yazilimci.maas_yukselt(5000)"
   ]
  },
  {
   "cell_type": "code",
   "execution_count": 10,
   "metadata": {},
   "outputs": [
    {
     "name": "stdout",
     "output_type": "stream",
     "text": [
      "\n",
      "        Çalışan Bilgisi: \n",
      "            Ad: Miray\n",
      "            Soyad: Topcu\n",
      "            Numara: 12345\n",
      "            Maas: 15000\n",
      "            Diller: ['Python', 'Java', 'SQL']\n"
     ]
    }
   ],
   "source": [
    "yazilimci.bilgileri_goster()"
   ]
  },
  {
   "cell_type": "markdown",
   "metadata": {},
   "source": [
    "# INHERITANCE\n",
    "- Bu konsepti aslında bizim kendi anne babamızdan değişik özellikleri ve davranışları miras almamıza benzetebiliriz.\n",
    "- Bir sınıfın özelliklerinin ve metodlarının başka sınıflara aktarılarak işlevinin artırlmasını sağlar.\n",
    "- Mesela öğrenci ve öğretmeni düşündüğümüz zaman öğrencinin adı, soyadı, adresi, cinsiyeti ve numarası vardır. Öğretmeninse ad, soyad, adres, cinsiyet ve branşı vardır, Bunun yerine kişi sınıfı oluşturup ad, soyad, adres ve cinsiyet tutulur.\n",
    "- Öğrenci ve öğretmen classında ise öğrenciye ve öğretmene özgü özellikler ve metodlar tutulur.\n",
    "- super() en genel anlamıyla miras aldığımız sınıfın metodlarını alt sınıflardan kullanmamızı sağlar.\n",
    "- super().init() metodu çalışırken sınıfın özelliklerini ve metodlarını kullanır.\n",
    "- Base Class ana sınıftır.\n",
    "- Sub Class base classının özelliklerini ve metodlarını kullanır."
   ]
  },
  {
   "cell_type": "code",
   "execution_count": 15,
   "metadata": {},
   "outputs": [
    {
     "name": "stdout",
     "output_type": "stream",
     "text": [
      "The Person object was created.\n",
      "Miray Topcu 20\n"
     ]
    }
   ],
   "source": [
    "class Person():\n",
    "    def __init__(self, name, surname, age):\n",
    "        self.name = name\n",
    "        self.surname = surname\n",
    "        self.age = age\n",
    "        print(\"The Person object was created.\")\n",
    "\n",
    "    def intro(self):\n",
    "        print(self.name, self.surname, self.age)\n",
    "\n",
    "class Student(Person):\n",
    "    def __init__(self, name, surname, age, number):\n",
    "        super().__init__(name, surname, age)\n",
    "        self.number = number\n",
    "        print(\"The Student object was created.\")\n",
    "    \n",
    "    def intro(self):\n",
    "        print(self.name, self.surname, self.age, self.number)\n",
    "\n",
    "    def study(self):\n",
    "        print(f\"The student who has number {self.number} studied.\")\n",
    "    \n",
    "class Teacher(Person):\n",
    "    def __init__(self, name, surname, age, branch):\n",
    "        super().__init__(name, surname, age)\n",
    "        self.branch = branch\n",
    "        print(\"The Teacher object was created.\")\n",
    "\n",
    "    def teach(self):\n",
    "        print(f\"The teacher named {self.name} is taking a {self.branch} lecture.\")\n",
    "\n",
    "p1 = Person(\"Miray\", \"Topcu\", 20)\n",
    "p1.intro()"
   ]
  },
  {
   "cell_type": "code",
   "execution_count": 16,
   "metadata": {},
   "outputs": [
    {
     "name": "stdout",
     "output_type": "stream",
     "text": [
      "The Person object was created.\n",
      "The Student object was created.\n",
      "Belemir Topcu 12 520\n",
      "The student who has number 520 studied.\n"
     ]
    }
   ],
   "source": [
    "s1 = Student(\"Belemir\", \"Topcu\", 12, 520)\n",
    "s1.intro()\n",
    "s1.study()"
   ]
  },
  {
   "cell_type": "code",
   "execution_count": 17,
   "metadata": {},
   "outputs": [
    {
     "name": "stdout",
     "output_type": "stream",
     "text": [
      "The Person object was created.\n",
      "The Teacher object was created.\n",
      "The teacher named Mehmet is taking a math lecture.\n",
      "Mehmet Gözeller 40\n"
     ]
    }
   ],
   "source": [
    "t1 = Teacher(\"Mehmet\", \"Gözeller\", 40, \"math\")\n",
    "t1.teach()\n",
    "t1.intro()"
   ]
  }
 ],
 "metadata": {
  "kernelspec": {
   "display_name": "Python 3",
   "language": "python",
   "name": "python3"
  },
  "language_info": {
   "codemirror_mode": {
    "name": "ipython",
    "version": 3
   },
   "file_extension": ".py",
   "mimetype": "text/x-python",
   "name": "python",
   "nbconvert_exporter": "python",
   "pygments_lexer": "ipython3",
   "version": "3.12.3"
  }
 },
 "nbformat": 4,
 "nbformat_minor": 2
}
