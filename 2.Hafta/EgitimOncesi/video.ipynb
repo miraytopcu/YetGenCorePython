{
 "cells": [
  {
   "cell_type": "code",
   "execution_count": 2,
   "metadata": {},
   "outputs": [
    {
     "name": "stdout",
     "output_type": "stream",
     "text": [
      "Hello World\n",
      "Merhaba\n",
      "Dunya\n"
     ]
    }
   ],
   "source": [
    "#ctrl + enter: run\n",
    "print(\"Hello World\")\n",
    "print('Merhaba')\n",
    "print(\"\"\"Dunya\"\"\")"
   ]
  },
  {
   "cell_type": "code",
   "execution_count": 5,
   "metadata": {},
   "outputs": [
    {
     "data": {
      "text/plain": [
       "'Hola Python'"
      ]
     },
     "execution_count": 5,
     "metadata": {},
     "output_type": "execute_result"
    }
   ],
   "source": [
    "\"Hello Python\" #print'ten farkı alt alta yazdırıldığında sadece son stringi ekrana verir\n",
    "\"Hola Python\""
   ]
  },
  {
   "cell_type": "markdown",
   "metadata": {},
   "source": [
    "#### print() Fonksiyonu Parametreler\n",
    "\n",
    "##### 1.sep\n",
    "- separator: ayraç, öğeler arasına hangi karakterin geleceğini belirler"
   ]
  },
  {
   "cell_type": "code",
   "execution_count": 9,
   "metadata": {},
   "outputs": [
    {
     "name": "stdout",
     "output_type": "stream",
     "text": [
      "Hello World\n",
      "Hello , World\n",
      "ankara/istanbul/izmir\n"
     ]
    }
   ],
   "source": [
    "print(\"Hello World\", sep=',') #burada python hello ve worldun farklı ogeler oldugunu kavrayamiyor\n",
    "print('Hello ' , ' World' , sep=',') #parametreler arasi virgul koy yoksa syntax error\n",
    "\n",
    "#sep default sep=''\n",
    "print(\"ankara\",\"istanbul\",\"izmir\",sep='/')"
   ]
  },
  {
   "cell_type": "markdown",
   "metadata": {},
   "source": [
    "##### 2.end\n",
    "- parametrenin sonuna neyin geleceğini belirler"
   ]
  },
  {
   "cell_type": "code",
   "execution_count": 10,
   "metadata": {},
   "outputs": [
    {
     "name": "stdout",
     "output_type": "stream",
     "text": [
      "yetgene hoş geldin."
     ]
    }
   ],
   "source": [
    "print(\"yetgene hoş geldin\" , end='.')\n",
    "\n",
    "#end default end=''"
   ]
  },
  {
   "cell_type": "markdown",
   "metadata": {},
   "source": [
    "##### Yorum Satırları"
   ]
  },
  {
   "cell_type": "code",
   "execution_count": null,
   "metadata": {},
   "outputs": [],
   "source": [
    "# tekli yorum satırı\n",
    "\n",
    "''' \n",
    "coklu yorum satiri\n",
    "1\n",
    "2\n",
    "3\n",
    "'''"
   ]
  },
  {
   "cell_type": "markdown",
   "metadata": {},
   "source": [
    "#### Variables\n",
    "\n",
    "- adlandırma başlangıçta \n",
    "sayı olmaz  _ ve harf olur\n",
    "türkçe karakter olmaz\n",
    "camelCase olacak ' ' olmamalı\n",
    "snake_case \n",
    "\n",
    "\n",
    "###### Özel Kelimeler\n",
    "and         del         from\n",
    "as          elif        global\n",
    "assert      else        if\n",
    "break       except      import\n",
    "class       False       in\n",
    "continue    finally     is\n",
    "def         for         lambda"
   ]
  },
  {
   "cell_type": "code",
   "execution_count": 11,
   "metadata": {},
   "outputs": [
    {
     "name": "stdout",
     "output_type": "stream",
     "text": [
      "Yetgen\n"
     ]
    }
   ],
   "source": [
    "yetgen = \"Yetgen\"\n",
    "print(yetgen)"
   ]
  },
  {
   "cell_type": "markdown",
   "metadata": {},
   "source": [
    "#### type() komutu"
   ]
  },
  {
   "cell_type": "code",
   "execution_count": 13,
   "metadata": {},
   "outputs": [
    {
     "name": "stdout",
     "output_type": "stream",
     "text": [
      "<class 'str'>\n",
      "<class 'float'>\n",
      "<class 'int'>\n",
      "<class 'bool'>\n"
     ]
    }
   ],
   "source": [
    "print(type(\"miray\"))\n",
    "print(type(3.14))\n",
    "print(type(5))\n",
    "print(type(False))"
   ]
  },
  {
   "cell_type": "markdown",
   "metadata": {},
   "source": [
    "#### SAYI VERİ TİPLERİ\n",
    "##### int\n",
    "tam sayı ifade eder\n",
    "##### float\n",
    "ondalık sayı ifade eder\n",
    "\n",
    "#### ARİTMETİK OPERATÖRLER\n",
    "- Toplama +\n",
    "- Çıkarma -\n",
    "- Çarpma *\n",
    "- Bölme /\n",
    "- Üs Alma **\n",
    "- Mod Alma %\n",
    "- Tam Bölme //"
   ]
  },
  {
   "cell_type": "code",
   "execution_count": 15,
   "metadata": {},
   "outputs": [
    {
     "name": "stdout",
     "output_type": "stream",
     "text": [
      "113\n",
      "29\n",
      "2982\n",
      "1.6904761904761905\n",
      "566044592922467932920289630256783944174352087720184706882390017513705742761841\n",
      "29\n",
      "1\n",
      "1.0\n"
     ]
    }
   ],
   "source": [
    "a = 71\n",
    "b = 42\n",
    "c = 42\n",
    "\n",
    "print(a+b)\n",
    "print(a-b)\n",
    "print(a*b)\n",
    "print(a/b)\n",
    "print(a**b)\n",
    "print(a%b)\n",
    "print(a//b)\n",
    "print(b/c)"
   ]
  },
  {
   "cell_type": "code",
   "execution_count": 16,
   "metadata": {},
   "outputs": [
    {
     "ename": "ZeroDivisionError",
     "evalue": "division by zero",
     "output_type": "error",
     "traceback": [
      "\u001b[1;31m---------------------------------------------------------------------------\u001b[0m",
      "\u001b[1;31mZeroDivisionError\u001b[0m                         Traceback (most recent call last)",
      "Cell \u001b[1;32mIn[16], line 1\u001b[0m\n\u001b[1;32m----> 1\u001b[0m \u001b[38;5;28mprint\u001b[39m(\u001b[38;5;241;43m2\u001b[39;49m\u001b[38;5;241;43m/\u001b[39;49m\u001b[38;5;241;43m0\u001b[39;49m)\n",
      "\u001b[1;31mZeroDivisionError\u001b[0m: division by zero"
     ]
    }
   ],
   "source": [
    "print(2/0)"
   ]
  },
  {
   "cell_type": "markdown",
   "metadata": {},
   "source": [
    "#### String\n",
    "- \"\",'',\"\"\"\"\"\" arasına yazılmalı\n",
    "- index 0dan başlar"
   ]
  },
  {
   "cell_type": "code",
   "execution_count": 17,
   "metadata": {},
   "outputs": [
    {
     "name": "stdout",
     "output_type": "stream",
     "text": [
      "m\n",
      "b\n",
      "n\n"
     ]
    }
   ],
   "source": [
    "degisken = \"merhaba python\"\n",
    "print(degisken[0])\n",
    "print(degisken[5])\n",
    "print(degisken[-1]) #son index"
   ]
  },
  {
   "cell_type": "code",
   "execution_count": 23,
   "metadata": {},
   "outputs": [
    {
     "name": "stdout",
     "output_type": "stream",
     "text": [
      "miray   topcu   19\n",
      "miray topcu 19\n"
     ]
    }
   ],
   "source": [
    "ad = \"miray\"\n",
    "soyad = \"topcu\"\n",
    "yas = \"19\"\n",
    "\n",
    "print(ad,\" \",soyad,\" \",yas)\n",
    "print(f\"{ad} {soyad} {yas}\")"
   ]
  },
  {
   "cell_type": "code",
   "execution_count": 21,
   "metadata": {},
   "outputs": [
    {
     "name": "stdout",
     "output_type": "stream",
     "text": [
      "miray topcu 19\n"
     ]
    }
   ],
   "source": [
    "print(ad + \" \" + soyad + \" \" + yas)"
   ]
  },
  {
   "cell_type": "markdown",
   "metadata": {},
   "source": [
    "#### input()\n",
    "verileri str alır"
   ]
  },
  {
   "cell_type": "code",
   "execution_count": 26,
   "metadata": {},
   "outputs": [
    {
     "name": "stdout",
     "output_type": "stream",
     "text": [
      "merhaba miray\n"
     ]
    }
   ],
   "source": [
    "isim = input(\"isim gir\")\n",
    "print(f\"merhaba {isim}\")\n"
   ]
  },
  {
   "cell_type": "code",
   "execution_count": 28,
   "metadata": {},
   "outputs": [
    {
     "name": "stdout",
     "output_type": "stream",
     "text": [
      "8452\n"
     ]
    }
   ],
   "source": [
    "sayi1 = input(\"1.sayı gir\")\n",
    "sayi2 = input(\"2.sayı gir\")\n",
    "print(sayi1 + sayi2) #dikat et!"
   ]
  },
  {
   "cell_type": "code",
   "execution_count": 29,
   "metadata": {},
   "outputs": [
    {
     "name": "stdout",
     "output_type": "stream",
     "text": [
      "136\n"
     ]
    }
   ],
   "source": [
    "sayi1 = int(input(\"1.sayı gir\"))\n",
    "sayi2 = int(input(\"2.sayı gir\"))\n",
    "print(sayi1 + sayi2) "
   ]
  }
 ],
 "metadata": {
  "kernelspec": {
   "display_name": "Python 3",
   "language": "python",
   "name": "python3"
  },
  "language_info": {
   "codemirror_mode": {
    "name": "ipython",
    "version": 3
   },
   "file_extension": ".py",
   "mimetype": "text/x-python",
   "name": "python",
   "nbconvert_exporter": "python",
   "pygments_lexer": "ipython3",
   "version": "3.12.3"
  }
 },
 "nbformat": 4,
 "nbformat_minor": 2
}
