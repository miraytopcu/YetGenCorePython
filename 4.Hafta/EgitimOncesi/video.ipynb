{
 "cells": [
  {
   "cell_type": "markdown",
   "metadata": {},
   "source": [
    "### Listeler\n",
    "- [ ] kullan\n",
    "- indexleme, veri güncelleme, silme, veri ekleme gibi işlemler\n",
    "- iç içe listeleme mevcut"
   ]
  },
  {
   "cell_type": "code",
   "execution_count": 22,
   "metadata": {},
   "outputs": [
    {
     "name": "stdout",
     "output_type": "stream",
     "text": [
      "Ahmet\n",
      "Çağla\n"
     ]
    }
   ],
   "source": [
    "liderler = ['Ahmet','Eslem','Berkcan','Çağla']\n",
    "print(liderler[0])\n",
    "print(liderler[-1])"
   ]
  },
  {
   "cell_type": "markdown",
   "metadata": {},
   "source": [
    "### Liste Method\n",
    "- append() : listenin sonuna eleman ekler\n",
    "- remove() : listenin içinden eleman siler\n",
    "- len() : listenin uzunluğunu gösterir\n",
    "- clear() : listenin içerisindeki bütün elemanları siler\n",
    "- index() : ilk bulduğunda durur, diğerlerini yok sayar. bulamazsa ValueError\n",
    "- pop() : listedeki elemanı siler, index verilmezse sonuncuyu verilirse onu\n",
    "- insert() : istenilen indexe eleman ekler\n",
    "- reverse() : listeyi ters çevirir\n",
    "- sort() : listeyi küçükten büyüğe sıralar"
   ]
  },
  {
   "cell_type": "code",
   "execution_count": 23,
   "metadata": {},
   "outputs": [
    {
     "name": "stdout",
     "output_type": "stream",
     "text": [
      "['Ahmet', 'Eslem', 'Berkcan', 'Çağla', 'Emirhan']\n",
      "['Ahmet', 'Eslem', 'Çağla', 'Emirhan']\n"
     ]
    }
   ],
   "source": [
    "# append() remove()\n",
    "liderler.append('Emirhan')\n",
    "print(liderler) #dikkat kod iki kere çalıştığı için emirhan 2 kere eklendi\n",
    "liderler.remove('Berkcan')\n",
    "print(liderler)"
   ]
  },
  {
   "cell_type": "code",
   "execution_count": 17,
   "metadata": {},
   "outputs": [
    {
     "name": "stdout",
     "output_type": "stream",
     "text": [
      "4\n"
     ]
    }
   ],
   "source": [
    "# len()\n",
    "print(len(liderler))"
   ]
  },
  {
   "cell_type": "code",
   "execution_count": 6,
   "metadata": {},
   "outputs": [
    {
     "ename": "IndexError",
     "evalue": "list assignment index out of range",
     "output_type": "error",
     "traceback": [
      "\u001b[1;31m---------------------------------------------------------------------------\u001b[0m",
      "\u001b[1;31mIndexError\u001b[0m                                Traceback (most recent call last)",
      "Cell \u001b[1;32mIn[6], line 1\u001b[0m\n\u001b[1;32m----> 1\u001b[0m \u001b[43mliderler\u001b[49m\u001b[43m[\u001b[49m\u001b[38;5;241;43m10\u001b[39;49m\u001b[43m]\u001b[49m \u001b[38;5;241m=\u001b[39m \u001b[38;5;124m'\u001b[39m\u001b[38;5;124mAyşe\u001b[39m\u001b[38;5;124m'\u001b[39m\n\u001b[0;32m      2\u001b[0m \u001b[38;5;28mprint\u001b[39m(liderler)\n",
      "\u001b[1;31mIndexError\u001b[0m: list assignment index out of range"
     ]
    }
   ],
   "source": [
    "liderler[10] = 'Ayşe'\n",
    "print(liderler)"
   ]
  },
  {
   "cell_type": "code",
   "execution_count": 24,
   "metadata": {},
   "outputs": [
    {
     "name": "stdout",
     "output_type": "stream",
     "text": [
      "['Ahmet', 'Eslem', 'Çağla', 'Ayşe']\n"
     ]
    }
   ],
   "source": [
    "liderler[-1] = 'Ayşe'\n",
    "print(liderler)"
   ]
  },
  {
   "cell_type": "code",
   "execution_count": 25,
   "metadata": {},
   "outputs": [
    {
     "data": {
      "text/plain": [
       "[]"
      ]
     },
     "execution_count": 25,
     "metadata": {},
     "output_type": "execute_result"
    }
   ],
   "source": [
    "#clear()\n",
    "liderler.clear()\n",
    "liderler"
   ]
  },
  {
   "cell_type": "code",
   "execution_count": 31,
   "metadata": {},
   "outputs": [
    {
     "name": "stdout",
     "output_type": "stream",
     "text": [
      "('ankara', 'eskisehir', 'izmir', 'eskisehir')\n",
      "ankara index:  0\n",
      "eskisehir index:  1\n"
     ]
    }
   ],
   "source": [
    "#index()\n",
    "sehirler = ((\"ankara\", \"eskisehir\", \"izmir\", \"eskisehir\"))\n",
    "print(sehirler)\n",
    "print(\"ankara index: \" , sehirler.index('ankara')) #virgül yerine + olsa hata --> biri str diğeri int\n",
    "#index() ile aranan kelimenin indexi bulunur, indexi verilen şeyin ne olduğu değil\n",
    "\n",
    "print(\"eskisehir index: \" , sehirler.index('eskisehir')) #ilk bulduğunu yazar"
   ]
  },
  {
   "cell_type": "code",
   "execution_count": 32,
   "metadata": {},
   "outputs": [
    {
     "ename": "ValueError",
     "evalue": "tuple.index(x): x not in tuple",
     "output_type": "error",
     "traceback": [
      "\u001b[1;31m---------------------------------------------------------------------------\u001b[0m",
      "\u001b[1;31mValueError\u001b[0m                                Traceback (most recent call last)",
      "Cell \u001b[1;32mIn[32], line 1\u001b[0m\n\u001b[1;32m----> 1\u001b[0m \u001b[38;5;28mprint\u001b[39m(\u001b[38;5;124m\"\u001b[39m\u001b[38;5;124mantalya index: \u001b[39m\u001b[38;5;124m\"\u001b[39m , \u001b[43msehirler\u001b[49m\u001b[38;5;241;43m.\u001b[39;49m\u001b[43mindex\u001b[49m\u001b[43m(\u001b[49m\u001b[38;5;124;43m'\u001b[39;49m\u001b[38;5;124;43mantalya\u001b[39;49m\u001b[38;5;124;43m'\u001b[39;49m\u001b[43m)\u001b[49m) \u001b[38;5;66;03m# ValueError\u001b[39;00m\n",
      "\u001b[1;31mValueError\u001b[0m: tuple.index(x): x not in tuple"
     ]
    }
   ],
   "source": [
    "print(\"antalya index: \" , sehirler.index('antalya')) # ValueError"
   ]
  },
  {
   "cell_type": "code",
   "execution_count": 36,
   "metadata": {},
   "outputs": [
    {
     "data": {
      "text/plain": [
       "'eskisehir'"
      ]
     },
     "execution_count": 36,
     "metadata": {},
     "output_type": "execute_result"
    }
   ],
   "source": [
    "sehirler = [\"ankara\", \"eskisehir\", \"izmir\", \"eskisehir\"]\n",
    "sehirler.pop()\n",
    "# ?? anlamadım ben list yaptım tuple kabul ediyor\n"
   ]
  },
  {
   "cell_type": "code",
   "execution_count": 37,
   "metadata": {},
   "outputs": [
    {
     "name": "stdout",
     "output_type": "stream",
     "text": [
      "['Adana', 'ankara', 'eskisehir', 'izmir']\n"
     ]
    }
   ],
   "source": [
    "sehirler.insert(0,\"Adana\")\n",
    "print(sehirler)"
   ]
  },
  {
   "cell_type": "code",
   "execution_count": 38,
   "metadata": {},
   "outputs": [
    {
     "name": "stdout",
     "output_type": "stream",
     "text": [
      "['izmir', 'eskisehir', 'ankara', 'Adana']\n"
     ]
    }
   ],
   "source": [
    "sehirler.reverse()\n",
    "print(sehirler)"
   ]
  },
  {
   "cell_type": "code",
   "execution_count": 39,
   "metadata": {},
   "outputs": [
    {
     "name": "stdout",
     "output_type": "stream",
     "text": [
      "['Adana', 'ankara', 'eskisehir', 'izmir']\n"
     ]
    }
   ],
   "source": [
    "sehirler.sort()\n",
    "print(sehirler)"
   ]
  },
  {
   "cell_type": "markdown",
   "metadata": {},
   "source": [
    "### Liste Toplama"
   ]
  },
  {
   "cell_type": "code",
   "execution_count": 40,
   "metadata": {},
   "outputs": [
    {
     "name": "stdout",
     "output_type": "stream",
     "text": [
      "['berkcan', 'ahmet', 'enes', 'cagla']\n"
     ]
    }
   ],
   "source": [
    "list1 = ['berkcan', 'ahmet']\n",
    "list2 = ['enes' , 'cagla']\n",
    "print(list1 + list2)"
   ]
  },
  {
   "cell_type": "markdown",
   "metadata": {},
   "source": [
    "### İÇ İÇE LİSTE"
   ]
  },
  {
   "cell_type": "code",
   "execution_count": 42,
   "metadata": {},
   "outputs": [
    {
     "name": "stdout",
     "output_type": "stream",
     "text": [
      "1\n",
      "6\n",
      "z\n"
     ]
    }
   ],
   "source": [
    "nestedList = [1,5,\"berkcan\",4,[6,\"z\"]]\n",
    "print(nestedList[0])\n",
    "print(nestedList[4][0])\n",
    "print(nestedList[4][1])"
   ]
  },
  {
   "cell_type": "markdown",
   "metadata": {},
   "source": [
    "### TUPLE(DEMET)\n",
    "- tuple elemanları değiştirilemez, liste elemanları değiştirilebilir\n",
    "- performanslı bir data sağlar\n",
    "- () içerisinde tanımla\n",
    "- iç içe tuple + \n",
    "- liste içi tuple, tuple içi liste +\n",
    "- bir kere tanımlayınca değiştiremezsin, sadece okunur\n",
    "- tek eleman içeriyorsa tuple olduğunu belirtmek için virgül , koy"
   ]
  },
  {
   "cell_type": "code",
   "execution_count": 47,
   "metadata": {},
   "outputs": [
    {
     "name": "stdout",
     "output_type": "stream",
     "text": [
      "5\n",
      "ankara\n",
      "(4,)\n"
     ]
    }
   ],
   "source": [
    "tupleList = (2,4,6,\"ankara\",[2,4,6])\n",
    "type(tupleList)\n",
    "print(len(tupleList))\n",
    "print(tupleList[-2])\n",
    "print(tupleList[1:2]) #1.elemandan 2.elemana kadar yazdır"
   ]
  },
  {
   "cell_type": "code",
   "execution_count": 45,
   "metadata": {},
   "outputs": [
    {
     "ename": "TypeError",
     "evalue": "'tuple' object does not support item assignment",
     "output_type": "error",
     "traceback": [
      "\u001b[1;31m---------------------------------------------------------------------------\u001b[0m",
      "\u001b[1;31mTypeError\u001b[0m                                 Traceback (most recent call last)",
      "Cell \u001b[1;32mIn[45], line 1\u001b[0m\n\u001b[1;32m----> 1\u001b[0m \u001b[43mtupleList\u001b[49m\u001b[43m[\u001b[49m\u001b[38;5;241;43m0\u001b[39;49m\u001b[43m]\u001b[49m \u001b[38;5;241m=\u001b[39m \u001b[38;5;241m8\u001b[39m\n\u001b[0;32m      2\u001b[0m \u001b[38;5;28mprint\u001b[39m(tupleList)\n",
      "\u001b[1;31mTypeError\u001b[0m: 'tuple' object does not support item assignment"
     ]
    }
   ],
   "source": [
    "tupleList[0] = 8\n",
    "print(tupleList) #immutable"
   ]
  },
  {
   "cell_type": "markdown",
   "metadata": {},
   "source": [
    "### SET\n",
    "- indexsiz ve sırasız elemanlardan oluşur\n",
    "- veri tekrarı söz konusu olamaz, her eleman eşsiz\n",
    "- {} içerisinde tanımnla\n",
    "- çok hızlı bir veri tipi"
   ]
  },
  {
   "cell_type": "code",
   "execution_count": 56,
   "metadata": {},
   "outputs": [
    {
     "name": "stdout",
     "output_type": "stream",
     "text": [
      "{'ali', 'berk'}\n",
      "<class 'set'>\n",
      "{'ali', 'berk'}\n"
     ]
    }
   ],
   "source": [
    "stu = {'berk', 'ali'}\n",
    "print(stu)\n",
    "print(type(stu))\n",
    "stu = {'berk', 'ali','ali'}\n",
    "print(stu)"
   ]
  },
  {
   "cell_type": "code",
   "execution_count": 50,
   "metadata": {},
   "outputs": [
    {
     "ename": "TypeError",
     "evalue": "'set' object is not subscriptable",
     "output_type": "error",
     "traceback": [
      "\u001b[1;31m---------------------------------------------------------------------------\u001b[0m",
      "\u001b[1;31mTypeError\u001b[0m                                 Traceback (most recent call last)",
      "Cell \u001b[1;32mIn[50], line 1\u001b[0m\n\u001b[1;32m----> 1\u001b[0m \u001b[38;5;28mprint\u001b[39m(\u001b[43mstu\u001b[49m\u001b[43m[\u001b[49m\u001b[38;5;241;43m0\u001b[39;49m\u001b[43m]\u001b[49m) \u001b[38;5;66;03m#setler indexlenemez\u001b[39;00m\n",
      "\u001b[1;31mTypeError\u001b[0m: 'set' object is not subscriptable"
     ]
    }
   ],
   "source": [
    "print(stu[0]) #setler indexlenemez"
   ]
  },
  {
   "cell_type": "code",
   "execution_count": 51,
   "metadata": {},
   "outputs": [
    {
     "name": "stdout",
     "output_type": "stream",
     "text": [
      "ali\n",
      "berk\n"
     ]
    }
   ],
   "source": [
    "for x in stu:\n",
    "    print(x)"
   ]
  },
  {
   "cell_type": "code",
   "execution_count": 52,
   "metadata": {},
   "outputs": [
    {
     "name": "stdout",
     "output_type": "stream",
     "text": [
      "True\n"
     ]
    }
   ],
   "source": [
    "print('berk' in stu)"
   ]
  },
  {
   "cell_type": "markdown",
   "metadata": {},
   "source": [
    "### SET METODLARI\n",
    "- add() : sete eleman ekler\n",
    "- remove() : setten eleman siler\n",
    "- clear() : setteki tüm elemanları siler\n",
    "- pop() : setin son elemanını siler\n",
    "- update() : sete eleman ekler\n",
    "- union() : iki seti birleştirir\n",
    "- intersection() : iki setin kesişimini alır\n",
    "- difference() : iki setin farkını alır"
   ]
  },
  {
   "cell_type": "code",
   "execution_count": 57,
   "metadata": {},
   "outputs": [
    {
     "name": "stdout",
     "output_type": "stream",
     "text": [
      "{'enes', 'ali', 'berk'}\n",
      "{'arda', 'berk', 'enes', 'ece', 'ali', 'fatma'}\n"
     ]
    }
   ],
   "source": [
    "stu.add('enes')\n",
    "print(stu)\n",
    "stu.update(['fatma','ece','arda']) #çoklu ekleme sağlar\n",
    "print(stu)"
   ]
  },
  {
   "cell_type": "code",
   "execution_count": 58,
   "metadata": {},
   "outputs": [
    {
     "name": "stdout",
     "output_type": "stream",
     "text": [
      "{'arda', 'enes', 'ece', 'ali', 'fatma'}\n",
      "{'enes', 'ece', 'ali', 'fatma'}\n"
     ]
    }
   ],
   "source": [
    "stu.remove('berk')\n",
    "print(stu)\n",
    "stu.pop()\n",
    "print(stu)"
   ]
  },
  {
   "cell_type": "code",
   "execution_count": 60,
   "metadata": {},
   "outputs": [
    {
     "data": {
      "text/plain": [
       "{1, 2, 3, 4}"
      ]
     },
     "execution_count": 60,
     "metadata": {},
     "output_type": "execute_result"
    }
   ],
   "source": [
    "set1 = {1,2,3}\n",
    "set2 = {2,3,4}\n",
    "set1.union(set2)\n"
   ]
  },
  {
   "cell_type": "code",
   "execution_count": 63,
   "metadata": {},
   "outputs": [
    {
     "data": {
      "text/plain": [
       "{2, 3}"
      ]
     },
     "execution_count": 63,
     "metadata": {},
     "output_type": "execute_result"
    }
   ],
   "source": [
    "set1.intersection(set2)\n"
   ]
  },
  {
   "cell_type": "code",
   "execution_count": 64,
   "metadata": {},
   "outputs": [
    {
     "data": {
      "text/plain": [
       "{1}"
      ]
     },
     "execution_count": 64,
     "metadata": {},
     "output_type": "execute_result"
    }
   ],
   "source": [
    "set1.difference(set2)\n"
   ]
  },
  {
   "cell_type": "markdown",
   "metadata": {},
   "source": [
    "### DİCTİONARY(SÖZLÜK)\n",
    "- sırasız veri tutar\n",
    "- {} arası tanımla\n",
    "- key: bir bilgiye ulaşmak için kullanılır\n",
    "- value: değer\n",
    "- key- value example: {06 : \"ankara\"}\n",
    "- dict(\"\") şeklinde de kullanılabilir\n",
    "- liste set vs içinde tanımlayamazsın"
   ]
  },
  {
   "cell_type": "code",
   "execution_count": 65,
   "metadata": {},
   "outputs": [
    {
     "name": "stdout",
     "output_type": "stream",
     "text": [
      "{'book': 'kitap', 'table': 'masa'}\n"
     ]
    },
    {
     "data": {
      "text/plain": [
       "dict"
      ]
     },
     "execution_count": 65,
     "metadata": {},
     "output_type": "execute_result"
    }
   ],
   "source": [
    "sozluk = {\"book\" : \"kitap\" , \"table\" : \"masa\"}\n",
    "print(sozluk)\n",
    "type(sozluk)"
   ]
  },
  {
   "cell_type": "code",
   "execution_count": 69,
   "metadata": {},
   "outputs": [
    {
     "name": "stdout",
     "output_type": "stream",
     "text": [
      "masa\n",
      "{'book': 'kitap', 'table': 'masa', 'pencil': 'kalem'}\n"
     ]
    }
   ],
   "source": [
    "print(sozluk[\"table\"])\n",
    "\n",
    "#veri ekleme\n",
    "sozluk[\"pencil\"] = \"kalem\"\n",
    "print(sozluk)"
   ]
  },
  {
   "cell_type": "code",
   "execution_count": 71,
   "metadata": {},
   "outputs": [
    {
     "name": "stdout",
     "output_type": "stream",
     "text": [
      "{'book': 'kitaplar', 'table': 'masa', 'pencil': 'kalem'}\n"
     ]
    }
   ],
   "source": [
    "#veri guncelleme\n",
    "sozluk[\"book\"]= \"kitaplar\"\n",
    "print(sozluk)"
   ]
  },
  {
   "cell_type": "code",
   "execution_count": 72,
   "metadata": {},
   "outputs": [
    {
     "name": "stdout",
     "output_type": "stream",
     "text": [
      "{'book': 'kitaplar', 'pencil': 'kalem'}\n"
     ]
    }
   ],
   "source": [
    "#veri silme\n",
    "del(sozluk[\"table\"])\n",
    "print(sozluk)"
   ]
  },
  {
   "cell_type": "code",
   "execution_count": 73,
   "metadata": {},
   "outputs": [
    {
     "name": "stdout",
     "output_type": "stream",
     "text": [
      "{1: {'TL': 'turkiye'}}\n"
     ]
    }
   ],
   "source": [
    "# value sozluk olması\n",
    "sozlukValue = {1: {\"TL\" : \"turkiye\"}}\n",
    "print(sozlukValue)"
   ]
  },
  {
   "cell_type": "markdown",
   "metadata": {},
   "source": [
    "### sozluk methods\n",
    "- keys() : key verir\n",
    "- values() : value verir\n",
    "- items() : key ve value verir"
   ]
  },
  {
   "cell_type": "code",
   "execution_count": 75,
   "metadata": {},
   "outputs": [
    {
     "name": "stdout",
     "output_type": "stream",
     "text": [
      "dict_keys(['book', 'pencil'])\n",
      "dict_values(['kitaplar', 'kalem'])\n",
      "dict_items([('book', 'kitaplar'), ('pencil', 'kalem')])\n"
     ]
    }
   ],
   "source": [
    "print(sozluk.keys())\n",
    "print(sozluk.values())\n",
    "print(sozluk.items())"
   ]
  }
 ],
 "metadata": {
  "kernelspec": {
   "display_name": "Python 3",
   "language": "python",
   "name": "python3"
  },
  "language_info": {
   "codemirror_mode": {
    "name": "ipython",
    "version": 3
   },
   "file_extension": ".py",
   "mimetype": "text/x-python",
   "name": "python",
   "nbconvert_exporter": "python",
   "pygments_lexer": "ipython3",
   "version": "3.12.3"
  }
 },
 "nbformat": 4,
 "nbformat_minor": 2
}
