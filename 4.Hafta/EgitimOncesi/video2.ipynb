{
 "cells": [
  {
   "cell_type": "markdown",
   "metadata": {},
   "source": [
    "### String Parçalama"
   ]
  },
  {
   "cell_type": "code",
   "execution_count": 4,
   "metadata": {},
   "outputs": [
    {
     "name": "stdout",
     "output_type": "stream",
     "text": [
      "tGe\n",
      "tGen\n",
      "Ye\n",
      "neGteY\n"
     ]
    }
   ],
   "source": [
    "x = \"YetGen\"\n",
    "print(x[2:5]) #2 dahil 5 değil\n",
    "print(x[2:]) #2den itibaren\n",
    "print(x[:2]) #2ye kadar\n",
    "print(x[::-1]) #tersten yazdırma"
   ]
  },
  {
   "cell_type": "markdown",
   "metadata": {},
   "source": [
    "### String Metodları\n",
    "- len(): uzunluğunu ver\n",
    "- upper() : tüm harfler büyük\n",
    "- lower() : tüm harfler küçük\n",
    "- capitalize() : ilk harf büyük\n",
    "- swapcase() : büyükler küçüğe, küçükler büyüğe\n",
    "- replace() : str içindeki veriyi değiştirir\n",
    "- split() : str parçalar\n",
    "- strip() : baştaki ve sondaki boşluğu siler\n",
    "- startswith() : belirtilen karakterle başlayıp başlamadığını kontrol etme\n",
    "- endswith() : belirtilen karakterle bitip bitmediğini kontrol etme\n",
    "- find() : verinin indexini verir , yoksa -1 döner\n",
    "- index() : verinin indexini verir, yoksa ValeuError\n",
    "- isalpha() : tüm karakterler alfabetik mi?\n",
    "- isdigit() : tüm karakterler rakam mı?"
   ]
  },
  {
   "cell_type": "code",
   "execution_count": 17,
   "metadata": {},
   "outputs": [
    {
     "name": "stdout",
     "output_type": "stream",
     "text": [
      "6\n",
      "YETGEN\n",
      "yetgen\n",
      "Yetgen\n",
      "yETgEN\n",
      "YatGan\n",
      "['miray', 'topcu', '19', 'eskisehir']\n",
      "kdrşhklbnxşd\n",
      "False\n",
      "True\n",
      "True\n",
      "-1\n",
      "4\n",
      "False\n",
      "False\n"
     ]
    }
   ],
   "source": [
    "print(len(x))\n",
    "print(x.upper())\n",
    "print(x.lower())\n",
    "print(x.capitalize())\n",
    "print(x.swapcase())\n",
    "print(x.replace('e','a'))\n",
    "\n",
    "y = \"miray topcu 19 eskisehir\"\n",
    "print(y.split(\" \"))\n",
    "\n",
    "z = \"           kdrşhklbnxşd     \"\n",
    "print(z.strip())\n",
    "print(x.startswith('a'))\n",
    "print(x.endswith('n'))\n",
    "print(x.endswith('en'))\n",
    "print(x.find('a'))\n",
    "print(x.index('en'))\n",
    "print(y.isalpha())\n",
    "print(y.isdigit())"
   ]
  },
  {
   "cell_type": "code",
   "execution_count": 14,
   "metadata": {},
   "outputs": [
    {
     "ename": "ValueError",
     "evalue": "substring not found",
     "output_type": "error",
     "traceback": [
      "\u001b[1;31m---------------------------------------------------------------------------\u001b[0m",
      "\u001b[1;31mValueError\u001b[0m                                Traceback (most recent call last)",
      "Cell \u001b[1;32mIn[14], line 1\u001b[0m\n\u001b[1;32m----> 1\u001b[0m \u001b[38;5;28mprint\u001b[39m(\u001b[43mx\u001b[49m\u001b[38;5;241;43m.\u001b[39;49m\u001b[43mindex\u001b[49m\u001b[43m(\u001b[49m\u001b[38;5;124;43m'\u001b[39;49m\u001b[38;5;124;43ma\u001b[39;49m\u001b[38;5;124;43m'\u001b[39;49m\u001b[43m)\u001b[49m)\n",
      "\u001b[1;31mValueError\u001b[0m: substring not found"
     ]
    }
   ],
   "source": [
    "print(x.index('a'))"
   ]
  }
 ],
 "metadata": {
  "kernelspec": {
   "display_name": "Python 3",
   "language": "python",
   "name": "python3"
  },
  "language_info": {
   "codemirror_mode": {
    "name": "ipython",
    "version": 3
   },
   "file_extension": ".py",
   "mimetype": "text/x-python",
   "name": "python",
   "nbconvert_exporter": "python",
   "pygments_lexer": "ipython3",
   "version": "3.12.3"
  }
 },
 "nbformat": 4,
 "nbformat_minor": 2
}
