{
 "cells": [
  {
   "cell_type": "markdown",
   "metadata": {},
   "source": [
    "# Problem 1\n",
    "`ogrenciler` adında bir sözlük oluşturunuz. Kullanıcıdan döngü yardımıyla 3 öğrenci için veri girmesini isteyerek öğrencilerin sırasıyla okul numarası, isim, soy isim, telefon numarası ve doğum tarihi bilgilerini alınız. Aldığınız öğrenci bilgilerini yine aynı döngü yardımıyla `ogrenciler` adındaki sözlükte saklayınız. Daha sonra öğrenci bilgilerinin bulunduğu sözlük yapısını ekrana bastırınız.\n",
    "\n"
   ]
  },
  {
   "cell_type": "code",
   "execution_count": 2,
   "metadata": {},
   "outputs": [
    {
     "name": "stdout",
     "output_type": "stream",
     "text": [
      "{'okul numarasi': '30', 'isim': 'miray', 'soyisim': 'topcu', 'telefon numarasi': '555444', 'dogum tarihi': '25/10/2004'}\n",
      "{'okul numarasi': '87', 'isim': 'aylin', 'soyisim': 'yilmaz', 'telefon numarasi': '889621', 'dogum tarihi': '18/3/1924'}\n",
      "{'okul numarasi': '648', 'isim': 'ali', 'soyisim': 'birer', 'telefon numarasi': '692517', 'dogum tarihi': '30/12/2019'}\n"
     ]
    }
   ],
   "source": [
    "# 1.Problemin Çözümünü Buraya Yazınız\n",
    "bilgi = ['okul numarasi','isim','soyisim','telefon numarasi','dogum tarihi']\n",
    "\n",
    "i = 1\n",
    "while i<4:\n",
    "    ogrenci = input(\"sirasiyla ogrencinin okul numarasi, isim, soyisim, telefon numarasi ve dogum tarihi bilgilerini girin: \")\n",
    "    ogrenciList = ogrenci.split(\" \")\n",
    "    ogrenciler = {bilgi[0] : ogrenciList[0], \n",
    "                  bilgi[1] : ogrenciList[1],\n",
    "                  bilgi[2] : ogrenciList[2],\n",
    "                  bilgi[3] : ogrenciList[3],\n",
    "                  bilgi[4] : ogrenciList[4]}\n",
    "    print(ogrenciler)\n",
    "    i += 1"
   ]
  },
  {
   "cell_type": "markdown",
   "metadata": {},
   "source": [
    "# Problem 2\n",
    "\n",
    "### a - Biraz ısınarak başlayalım!\n",
    "\n",
    "```\n",
    "numbers = [5,10,10,15,15,15,20,20,20,20]\n",
    "```\n",
    "\n",
    "Yukarıda `numbers` adında 10 elemanlı bir liste verilmiştir. Bu listenin her elemanını kontrol eden ve tekrar eden elemanları bir kez olacak şekilde başka bir listeye kopyalayan bir program yazınız. Son olarak oluşturduğunuz listeyi ekrana bastırınız.\n",
    "\n",
    "\n",
    "\n",
    "\n",
    "```\n",
    ">Output\n",
    "[5, 10, 15, 20]\n",
    "```\n"
   ]
  },
  {
   "cell_type": "code",
   "execution_count": 3,
   "metadata": {},
   "outputs": [
    {
     "name": "stdout",
     "output_type": "stream",
     "text": [
      "[5, 10, 15, 20]\n"
     ]
    }
   ],
   "source": [
    "# 2.Problemin a Şıkkının Çözümünü Buraya Yazınız\n",
    "numbers = [5,10,10,15,15,15,20,20,20,20]\n",
    "new_numbers = []\n",
    "for i in numbers:\n",
    "    if i in new_numbers:\n",
    "        continue\n",
    "    else:\n",
    "        new_numbers.append(i)\n",
    "\n",
    "print(new_numbers)"
   ]
  },
  {
   "cell_type": "markdown",
   "metadata": {},
   "source": [
    "### 🌶️ b) Hadi işi biraz daha zorlaştıralım! \n",
    "\n",
    "\n",
    "Şimdiyse senden `numbers` isimli listedeki tekrar eden elemanları `repeatNumbers` adındaki listeye; tekrar etmeyen elemanları `uniqueNumbers`adındaki listeye kopyalayan yazmanı ve listeleri ekrana bastırmanı bekliyoruz\n",
    "\n",
    "```\n",
    ">Output\n",
    "Tekrar Eden Elemanlar: [10, 10, 15, 15, 15, 20, 20, 20, 20]\n",
    "Tekrar Etmeyen Elemanlar: [5]\n",
    "```"
   ]
  },
  {
   "cell_type": "code",
   "execution_count": 7,
   "metadata": {},
   "outputs": [
    {
     "name": "stdout",
     "output_type": "stream",
     "text": [
      "tekrar edenler: [10, 10, 15, 15, 15, 20, 20, 20, 20]\n",
      "tekrar etmeyenler: [5]\n"
     ]
    }
   ],
   "source": [
    "# 2.Problemin b Şıkkının Çözümünü Buraya Yazınız\n",
    "numbers = [5,10,10,15,15,15,20,20,20,20]\n",
    "\n",
    "repeatNumbers = []\n",
    "uniqueNumbers = []\n",
    "\n",
    "for i in numbers:\n",
    "    if numbers.count(i) > 1:\n",
    "        repeatNumbers.append(i)\n",
    "    elif numbers.count(i) == 1:\n",
    "        uniqueNumbers.append(i)\n",
    "\n",
    "print(\"tekrar edenler:\", repeatNumbers)\n",
    "print(\"tekrar etmeyenler:\", uniqueNumbers)"
   ]
  },
  {
   "cell_type": "markdown",
   "metadata": {},
   "source": [
    "# Problem 3\n",
    "sn1 = {1,2,3,4,5}\n",
    "\n",
    "sn2 = {4,5,6,7,8}\n",
    "\n",
    " Verilen 2 adet küme için kesişimlerini, farklarını ve birleşimlerini bulunuz. "
   ]
  },
  {
   "cell_type": "code",
   "execution_count": 11,
   "metadata": {},
   "outputs": [
    {
     "name": "stdout",
     "output_type": "stream",
     "text": [
      "kesişim:  {4, 5}\n",
      "fark1:  {1, 2, 3}\n",
      "fark2:  {8, 6, 7}\n",
      "birleşim:  {1, 2, 3, 4, 5, 6, 7, 8}\n"
     ]
    }
   ],
   "source": [
    "# 3.Problemin Çözümünü Buraya Yazınız\n",
    "sn1 = {1,2,3,4,5}\n",
    "sn2 = {4,5,6,7,8}\n",
    "\n",
    "print('kesişim: ' , sn1.intersection(sn2))\n",
    "print('fark1: ' , sn1.difference(sn2))\n",
    "print('fark2: ' , sn2.difference(sn1))\n",
    "print('birleşim: ', sn1.union(sn2))"
   ]
  },
  {
   "cell_type": "markdown",
   "metadata": {},
   "source": [
    "# Problem 4\n",
    "\n",
    "Buradaki işlemlerimizin tamamı stringler içindir. Aşağıda verilecek olan metodlar için kendinizin örnek yaratması gerekmektedir. \n",
    "\n",
    "Örneğin `upper` için `string` değişkeni oluştururken` k = \"BAC\"` şeklinde oluşturmayınız. Bunun yerine k değişkenini `k = \"bac`\" şeklinde oluşturmanız `upper` metodundaki değişimi görebilmeniz için daha iyi olacaktır.\n",
    "\n",
    "Bütün metodlardaki değişimin gözle görülür şekilde değişimi beklenmektedir.\n",
    "\n",
    "\n",
    "1- capitalize(), lower(), upper(), swapcase(), title(), replace()\n",
    "\n",
    "2- endswith(), startswith(), find(), index(), count()\n",
    "\n",
    "3- split(), strip(), join(), islower(), isalpha(), isdigit()\n",
    "\n",
    "\n",
    "Yukarıdaki `string` metodlarındaki değişimleri görebildiğimiz bir program yazınız.\n"
   ]
  },
  {
   "cell_type": "code",
   "execution_count": 14,
   "metadata": {},
   "outputs": [
    {
     "name": "stdout",
     "output_type": "stream",
     "text": [
      "   merhaba45 87ankara  \n",
      "   merhaba45 87ankara  \n",
      "   MERHABA45 87ANKARA  \n",
      "   MeRhABa45 87ANkARa  \n",
      "   Merhaba45 87Ankara  \n",
      "   mErH!bA45 87!nK!rA  \n",
      "False\n",
      "False\n",
      "-1\n",
      "6\n",
      "3\n",
      "['', '', '', 'mErHabA45', '87anKarA', '', '']\n",
      "mErHabA45 87anKarA\n",
      "1   mErHabA45 87anKarA  2   mErHabA45 87anKarA  3   mErHabA45 87anKarA  4   mErHabA45 87anKarA  5   mErHabA45 87anKarA  6\n",
      "False\n",
      "False\n",
      "False\n"
     ]
    }
   ],
   "source": [
    "# 4.Problemin Çözümünü Buraya Yazınız\n",
    "k = \"   mErHabA45 87anKarA  \"\n",
    "print(k.capitalize())\n",
    "print(k.lower())\n",
    "print(k.upper())\n",
    "print(k.swapcase())\n",
    "print(k.title())\n",
    "print(k.replace('a','!'))\n",
    "print(k.endswith('A'))\n",
    "print(k.startswith('M'))\n",
    "print(k.find('i'))\n",
    "print(k.index('H'))\n",
    "print(k.count('a'))\n",
    "print(k.split(' '))\n",
    "print(k.strip())\n",
    "print(k.join('123456'))\n",
    "print(k.islower())\n",
    "print(k.isalpha())\n",
    "print(k.isdigit())"
   ]
  }
 ],
 "metadata": {
  "kernelspec": {
   "display_name": "Python 3.10.5 64-bit",
   "language": "python",
   "name": "python3"
  },
  "language_info": {
   "codemirror_mode": {
    "name": "ipython",
    "version": 3
   },
   "file_extension": ".py",
   "mimetype": "text/x-python",
   "name": "python",
   "nbconvert_exporter": "python",
   "pygments_lexer": "ipython3",
   "version": "3.12.3"
  },
  "orig_nbformat": 4,
  "vscode": {
   "interpreter": {
    "hash": "5026d2d6e7aaaaba093def813beadff083d8733e4a511af01735cbabd156995d"
   }
  }
 },
 "nbformat": 4,
 "nbformat_minor": 2
}
