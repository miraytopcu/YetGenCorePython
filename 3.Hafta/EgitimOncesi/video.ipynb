{
 "cells": [
  {
   "cell_type": "markdown",
   "metadata": {},
   "source": [
    "### Karşılaştırma Operatörleri\n",
    "==\n",
    "!=\n",
    "<=\n",
    ">=\n",
    "<\n",
    ">"
   ]
  },
  {
   "cell_type": "code",
   "execution_count": 1,
   "metadata": {},
   "outputs": [
    {
     "name": "stdout",
     "output_type": "stream",
     "text": [
      "False\n",
      "True\n"
     ]
    }
   ],
   "source": [
    "a, b, c, d = 5 , 5 , 10 , 4\n",
    "print(a==c)\n",
    "print(a!=d)\n"
   ]
  },
  {
   "cell_type": "markdown",
   "metadata": {},
   "source": [
    "### Mantıksal Operatörler\n",
    "#### and\n",
    "TTT/TFF/FTF/FFF\n",
    "#### or\n",
    "TTT/TFT/FTT/FFF\n",
    "#### not"
   ]
  },
  {
   "cell_type": "code",
   "execution_count": 2,
   "metadata": {},
   "outputs": [
    {
     "name": "stdout",
     "output_type": "stream",
     "text": [
      "True\n"
     ]
    }
   ],
   "source": [
    "x = int(input(\"bir sayi gir: \"))\n",
    "print(x > 5 and x < 10)"
   ]
  },
  {
   "cell_type": "code",
   "execution_count": 3,
   "metadata": {},
   "outputs": [
    {
     "name": "stdout",
     "output_type": "stream",
     "text": [
      "True\n"
     ]
    }
   ],
   "source": [
    "hak = 8\n",
    "hakVarMi = True\n",
    "print(hak <= 5 or hakVarMi ==True)"
   ]
  },
  {
   "cell_type": "code",
   "execution_count": 4,
   "metadata": {},
   "outputs": [
    {
     "name": "stdout",
     "output_type": "stream",
     "text": [
      "True\n"
     ]
    }
   ],
   "source": [
    "print(not(False))"
   ]
  },
  {
   "cell_type": "markdown",
   "metadata": {},
   "source": [
    "### IF/ELSE"
   ]
  },
  {
   "cell_type": "code",
   "execution_count": 5,
   "metadata": {},
   "outputs": [
    {
     "name": "stdout",
     "output_type": "stream",
     "text": [
      "buyuktur\n",
      "son\n"
     ]
    }
   ],
   "source": [
    "if 3 > 2:\n",
    "    print(\"buyuktur\")\n",
    "print(\"son\")"
   ]
  },
  {
   "cell_type": "code",
   "execution_count": 6,
   "metadata": {},
   "outputs": [
    {
     "name": "stdout",
     "output_type": "stream",
     "text": [
      "sayi1 > sayi2\n"
     ]
    }
   ],
   "source": [
    "sayi1 = float(input(\"sayi1 gir: \"))\n",
    "sayi2 = float(input(\"sayi2 gir: \"))\n",
    "\n",
    "if sayi1 > sayi2:\n",
    "    print(\"sayi1 > sayi2\")\n",
    "\n",
    "elif sayi1 == sayi2:\n",
    "    print(\"sayi1 = sayi2\")\n",
    "\n",
    "else:\n",
    "    print(\"sayi1 < sayi2\")"
   ]
  },
  {
   "cell_type": "code",
   "execution_count": 7,
   "metadata": {},
   "outputs": [
    {
     "name": "stdout",
     "output_type": "stream",
     "text": [
      "Spiderman sectin.\n"
     ]
    }
   ],
   "source": [
    "superKahraman = input(\"super kahraman gir: \")\n",
    "if superKahraman == \"Batman\":\n",
    "    print(\"Batman sectin.\")\n",
    "elif superKahraman == \"Spiderman\":\n",
    "    print(\"Spiderman sectin.\")\n",
    "elif superKahraman == \"Ironman\":\n",
    "    print(\"Ironman sectin.\")\n",
    "else:\n",
    "    print(\"o bizde yok.\")"
   ]
  },
  {
   "cell_type": "code",
   "execution_count": 8,
   "metadata": {},
   "outputs": [
    {
     "name": "stdout",
     "output_type": "stream",
     "text": [
      "4653468 sayisi cift\n"
     ]
    }
   ],
   "source": [
    "num = int(input(\"int sayi gir: \"))\n",
    "\n",
    "if num % 2 == 0:\n",
    "    print(f\"{num} sayisi cift\")\n",
    "else:\n",
    "    print(f\"{num} sayisi tek\")    "
   ]
  },
  {
   "cell_type": "markdown",
   "metadata": {},
   "source": [
    "### in\n",
    "belirtilen bir degerin, dizi, metin, liste veya demet gibi bir dizinin ogesi olup olmadigini kontrol eder. True/False"
   ]
  },
  {
   "cell_type": "code",
   "execution_count": 9,
   "metadata": {},
   "outputs": [
    {
     "name": "stdout",
     "output_type": "stream",
     "text": [
      "evet var\n"
     ]
    }
   ],
   "source": [
    "string = \"YetGen\"\n",
    "if 'e' in string:\n",
    "    print(\"evet var\")\n",
    "else:\n",
    "    print(\"hayir yok\")"
   ]
  }
 ],
 "metadata": {
  "kernelspec": {
   "display_name": "Python 3",
   "language": "python",
   "name": "python3"
  },
  "language_info": {
   "codemirror_mode": {
    "name": "ipython",
    "version": 3
   },
   "file_extension": ".py",
   "mimetype": "text/x-python",
   "name": "python",
   "nbconvert_exporter": "python",
   "pygments_lexer": "ipython3",
   "version": "3.12.3"
  }
 },
 "nbformat": 4,
 "nbformat_minor": 2
}
