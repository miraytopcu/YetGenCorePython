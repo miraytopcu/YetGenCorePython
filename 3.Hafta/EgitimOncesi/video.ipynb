{
 "cells": [
  {
   "cell_type": "markdown",
   "metadata": {},
   "source": [
    "### Karşılaştırma Operatörleri\n",
    "==\n",
    "!=\n",
    "<=\n",
    ">=\n",
    "<\n",
    ">"
   ]
  },
  {
   "cell_type": "code",
   "execution_count": 1,
   "metadata": {},
   "outputs": [
    {
     "name": "stdout",
     "output_type": "stream",
     "text": [
      "False\n",
      "True\n"
     ]
    }
   ],
   "source": [
    "a, b, c, d = 5 , 5 , 10 , 4\n",
    "print(a==c)\n",
    "print(a!=d)\n"
   ]
  },
  {
   "cell_type": "markdown",
   "metadata": {},
   "source": [
    "### Mantıksal Operatörler\n",
    "#### and\n",
    "TTT/TFF/FTF/FFF\n",
    "#### or\n",
    "TTT/TFT/FTT/FFF\n",
    "#### not"
   ]
  },
  {
   "cell_type": "code",
   "execution_count": 2,
   "metadata": {},
   "outputs": [
    {
     "name": "stdout",
     "output_type": "stream",
     "text": [
      "True\n"
     ]
    }
   ],
   "source": [
    "x = int(input(\"bir sayi gir: \"))\n",
    "print(x > 5 and x < 10)"
   ]
  },
  {
   "cell_type": "code",
   "execution_count": 3,
   "metadata": {},
   "outputs": [
    {
     "name": "stdout",
     "output_type": "stream",
     "text": [
      "True\n"
     ]
    }
   ],
   "source": [
    "hak = 8\n",
    "hakVarMi = True\n",
    "print(hak <= 5 or hakVarMi ==True)"
   ]
  },
  {
   "cell_type": "code",
   "execution_count": 4,
   "metadata": {},
   "outputs": [
    {
     "name": "stdout",
     "output_type": "stream",
     "text": [
      "True\n"
     ]
    }
   ],
   "source": [
    "print(not(False))"
   ]
  },
  {
   "cell_type": "markdown",
   "metadata": {},
   "source": [
    "### IF/ELSE"
   ]
  },
  {
   "cell_type": "code",
   "execution_count": 5,
   "metadata": {},
   "outputs": [
    {
     "name": "stdout",
     "output_type": "stream",
     "text": [
      "buyuktur\n",
      "son\n"
     ]
    }
   ],
   "source": [
    "if 3 > 2:\n",
    "    print(\"buyuktur\")\n",
    "print(\"son\")"
   ]
  },
  {
   "cell_type": "code",
   "execution_count": 6,
   "metadata": {},
   "outputs": [
    {
     "name": "stdout",
     "output_type": "stream",
     "text": [
      "sayi1 > sayi2\n"
     ]
    }
   ],
   "source": [
    "sayi1 = float(input(\"sayi1 gir: \"))\n",
    "sayi2 = float(input(\"sayi2 gir: \"))\n",
    "\n",
    "if sayi1 > sayi2:\n",
    "    print(\"sayi1 > sayi2\")\n",
    "\n",
    "elif sayi1 == sayi2:\n",
    "    print(\"sayi1 = sayi2\")\n",
    "\n",
    "else:\n",
    "    print(\"sayi1 < sayi2\")"
   ]
  },
  {
   "cell_type": "code",
   "execution_count": 7,
   "metadata": {},
   "outputs": [
    {
     "name": "stdout",
     "output_type": "stream",
     "text": [
      "Spiderman sectin.\n"
     ]
    }
   ],
   "source": [
    "superKahraman = input(\"super kahraman gir: \")\n",
    "if superKahraman == \"Batman\":\n",
    "    print(\"Batman sectin.\")\n",
    "elif superKahraman == \"Spiderman\":\n",
    "    print(\"Spiderman sectin.\")\n",
    "elif superKahraman == \"Ironman\":\n",
    "    print(\"Ironman sectin.\")\n",
    "else:\n",
    "    print(\"o bizde yok.\")"
   ]
  },
  {
   "cell_type": "code",
   "execution_count": 8,
   "metadata": {},
   "outputs": [
    {
     "name": "stdout",
     "output_type": "stream",
     "text": [
      "4653468 sayisi cift\n"
     ]
    }
   ],
   "source": [
    "num = int(input(\"int sayi gir: \"))\n",
    "\n",
    "if num % 2 == 0:\n",
    "    print(f\"{num} sayisi cift\")\n",
    "else:\n",
    "    print(f\"{num} sayisi tek\")    "
   ]
  },
  {
   "cell_type": "markdown",
   "metadata": {},
   "source": [
    "### in\n",
    "belirtilen bir degerin, dizi, metin, liste veya demet gibi bir dizinin ogesi olup olmadigini kontrol eder. True/False"
   ]
  },
  {
   "cell_type": "code",
   "execution_count": 9,
   "metadata": {},
   "outputs": [
    {
     "name": "stdout",
     "output_type": "stream",
     "text": [
      "evet var\n"
     ]
    }
   ],
   "source": [
    "string = \"YetGen\"\n",
    "if 'e' in string:\n",
    "    print(\"evet var\")\n",
    "else:\n",
    "    print(\"hayir yok\")"
   ]
  },
  {
   "cell_type": "markdown",
   "metadata": {},
   "source": [
    "## Donguler\n",
    "- Sonsuz döngü : genelde while\n",
    "- Sıfır aöma döngüsü: bir döngünün koşulu baştan yanlışsa\n",
    "\n",
    "### for\n",
    "- liste, demet, string, sözlük üzerinde dolaşmamızı sağlar\n",
    "\n",
    "for eleman in veriYapisi:\n",
    "    yapilacak islem"
   ]
  },
  {
   "cell_type": "code",
   "execution_count": 2,
   "metadata": {},
   "outputs": [
    {
     "name": "stdout",
     "output_type": "stream",
     "text": [
      "1\n",
      "4\n",
      "9\n",
      "16\n",
      "25\n"
     ]
    }
   ],
   "source": [
    "liste = [1,2,3,4,5]\n",
    "for i in liste:\n",
    "    print(i**2)"
   ]
  },
  {
   "cell_type": "code",
   "execution_count": 3,
   "metadata": {},
   "outputs": [
    {
     "name": "stdout",
     "output_type": "stream",
     "text": [
      "Y\n",
      "e\n",
      "t\n",
      "G\n",
      "e\n",
      "n\n",
      " \n",
      "J\n",
      "u\n",
      "m\n",
      "p\n"
     ]
    }
   ],
   "source": [
    "string = \"YetGen Jump\"\n",
    "for str1 in string:\n",
    "    print(str1)"
   ]
  },
  {
   "cell_type": "code",
   "execution_count": 4,
   "metadata": {},
   "outputs": [
    {
     "name": "stdout",
     "output_type": "stream",
     "text": [
      "1\n",
      "4\n",
      "9\n",
      "16\n",
      "25\n",
      "36\n",
      "49\n"
     ]
    }
   ],
   "source": [
    "sayilar = \"1234567\"\n",
    "for x in sayilar:\n",
    "    print(int(x)*int(x))"
   ]
  },
  {
   "cell_type": "markdown",
   "metadata": {},
   "source": [
    "### while\n",
    "\n",
    "while kosul:\n",
    "    islem"
   ]
  },
  {
   "cell_type": "code",
   "execution_count": 8,
   "metadata": {},
   "outputs": [
    {
     "name": "stdout",
     "output_type": "stream",
     "text": [
      "55\n"
     ]
    }
   ],
   "source": [
    "sum = 0\n",
    "i=0\n",
    "while i < 11:\n",
    "    sum += i\n",
    "    i += 1\n",
    "\n",
    "print(sum)"
   ]
  },
  {
   "cell_type": "markdown",
   "metadata": {},
   "source": [
    "### range()\n",
    "\n",
    "range(baslangic, bitis, artisMiktari)"
   ]
  },
  {
   "cell_type": "code",
   "execution_count": 11,
   "metadata": {},
   "outputs": [
    {
     "name": "stdout",
     "output_type": "stream",
     "text": [
      "1\n",
      "3\n",
      "5\n",
      "7\n",
      "9\n"
     ]
    }
   ],
   "source": [
    "for x in range(1, 10, 2):\n",
    "    print(x)"
   ]
  },
  {
   "cell_type": "code",
   "execution_count": 12,
   "metadata": {},
   "outputs": [
    {
     "name": "stdout",
     "output_type": "stream",
     "text": [
      "0\n",
      "1\n",
      "2\n",
      "3\n",
      "4\n"
     ]
    }
   ],
   "source": [
    "for x in range(5):\n",
    "    print(x)   #0dan basla 5e kadar 1er 1er"
   ]
  },
  {
   "cell_type": "markdown",
   "metadata": {},
   "source": [
    "### break - continue\n",
    "\n",
    "- break: döngü sonlandırır\n",
    "- continue: döngü sonraki adıma geçer"
   ]
  },
  {
   "cell_type": "code",
   "execution_count": 13,
   "metadata": {},
   "outputs": [
    {
     "name": "stdout",
     "output_type": "stream",
     "text": [
      "0\n",
      "1\n",
      "2\n",
      "3\n",
      "4\n"
     ]
    }
   ],
   "source": [
    "i = 0\n",
    "while i < 10:\n",
    "    if i == 5:\n",
    "        break\n",
    "    else:\n",
    "        print(i)\n",
    "    i+=1"
   ]
  },
  {
   "cell_type": "code",
   "execution_count": 14,
   "metadata": {},
   "outputs": [
    {
     "name": "stdout",
     "output_type": "stream",
     "text": [
      "cikmak icin q bas!\n",
      "yasiniz 456465\n",
      "cikmak icin q bas!\n",
      "yasiniz 56165\n",
      "cikmak icin q bas!\n",
      "yasiniz 64165\n",
      "cikmak icin q bas!\n",
      "yasiniz 6568\n",
      "cikmak icin q bas!\n"
     ]
    }
   ],
   "source": [
    "while True:\n",
    "    print(\"cikmak icin q bas!\")\n",
    "    yas = input(\"yasiniz: \")\n",
    "    if yas == 'q':\n",
    "        break\n",
    "    else:\n",
    "        print(\"yasiniz {}\".format(yas))\n"
   ]
  },
  {
   "cell_type": "code",
   "execution_count": 15,
   "metadata": {},
   "outputs": [
    {
     "name": "stdout",
     "output_type": "stream",
     "text": [
      "0\n",
      "1\n",
      "2\n",
      "3\n",
      "4\n",
      "6\n"
     ]
    }
   ],
   "source": [
    "for i in range(7):\n",
    "    if i == 5:\n",
    "        continue\n",
    "    print(i)"
   ]
  }
 ],
 "metadata": {
  "kernelspec": {
   "display_name": "Python 3",
   "language": "python",
   "name": "python3"
  },
  "language_info": {
   "codemirror_mode": {
    "name": "ipython",
    "version": 3
   },
   "file_extension": ".py",
   "mimetype": "text/x-python",
   "name": "python",
   "nbconvert_exporter": "python",
   "pygments_lexer": "ipython3",
   "version": "3.12.3"
  }
 },
 "nbformat": 4,
 "nbformat_minor": 2
}
