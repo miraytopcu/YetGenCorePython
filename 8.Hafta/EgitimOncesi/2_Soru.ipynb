{
  "cells": [
    {
      "cell_type": "markdown",
      "metadata": {
        "id": "xdJPVw8Qym8-"
      },
      "source": [
        " # Problem 2\n",
        " \n",
        "```test.txt``` dosyasını satır satır okuyun ve bir listede saklayınız. Daha sonra listeyi ekrana bastırınız."
      ]
    },
    {
      "cell_type": "code",
      "execution_count": 1,
      "metadata": {
        "id": "ERxLPkA1yqM9"
      },
      "outputs": [
        {
          "name": "stdout",
          "output_type": "stream",
          "text": [
            "['merhaba\\n', 'hello\\n', 'hi\\n', 'hallo\\n', 'hola\\n', 'ciao\\n', 'ahoy\\n', 'szia']\n"
          ]
        }
      ],
      "source": [
        "#Sorunun Çözmünü Buraya Gerçekleştirebilirsiniz\n",
        "# file_read isimli bir fonksiyon oluşturup fname isimli parametre yollayalım\n",
        "def file_read(fname):\n",
        "    # with ile dosyamızı açalım ki iş bitince dosyanın tekrar kapanmasını sağlayalım\n",
        "    with open(fname) as f:\n",
        "        # content_list isimli bir değişken oluşturup dosyayı satır satır okuyalım\n",
        "        content_list = f.readlines()\n",
        "        # content_list isimli değişkeni ekrana bastıralım\n",
        "        print(content_list)\n",
        "# file_read fonksiyonunu çağıralım\n",
        "file_read(\"test.txt\")"
      ]
    }
  ],
  "metadata": {
    "colab": {
      "provenance": []
    },
    "kernelspec": {
      "display_name": "Python 3",
      "name": "python3"
    },
    "language_info": {
      "codemirror_mode": {
        "name": "ipython",
        "version": 3
      },
      "file_extension": ".py",
      "mimetype": "text/x-python",
      "name": "python",
      "nbconvert_exporter": "python",
      "pygments_lexer": "ipython3",
      "version": "3.12.3"
    }
  },
  "nbformat": 4,
  "nbformat_minor": 0
}
