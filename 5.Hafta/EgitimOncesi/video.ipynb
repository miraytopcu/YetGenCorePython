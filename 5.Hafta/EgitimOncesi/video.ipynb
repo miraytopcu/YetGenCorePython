{
 "cells": [
  {
   "cell_type": "markdown",
   "metadata": {},
   "source": [
    "### LIST COMPREHENSION\n",
    "\n",
    "- Liste işlemlerinde kodu uzun uzadıya yazmak yerine tek bir satırda düzenleme imkanı sunar. \n",
    "\n",
    "![Image](https://www.freecodecamp.org/news/content/images/2021/07/list-comprehension-1.png)\n"
   ]
  },
  {
   "cell_type": "code",
   "execution_count": 1,
   "metadata": {},
   "outputs": [
    {
     "name": "stdout",
     "output_type": "stream",
     "text": [
      "[1, 4, 9, 16, 25, 36, 49, 64, 81, 100]\n"
     ]
    }
   ],
   "source": [
    "# klasik yontem\n",
    "liste = [1,2,3,4,5,6,7,8,9,10]\n",
    "yeniListe = []\n",
    "\n",
    "for i in liste:\n",
    "    yeniListe.append(i*i)\n",
    "\n",
    "print(yeniListe)"
   ]
  },
  {
   "cell_type": "code",
   "execution_count": 2,
   "metadata": {},
   "outputs": [
    {
     "name": "stdout",
     "output_type": "stream",
     "text": [
      "[1, 4, 9, 16, 25, 36, 49, 64, 81, 100]\n"
     ]
    }
   ],
   "source": [
    "# LIST COMPREHENSION\n",
    "liste = [1,2,3,4,5,6,7,8,9,10]\n",
    "yeniListe = [i*i for i in liste]\n",
    "print(yeniListe)"
   ]
  },
  {
   "cell_type": "code",
   "execution_count": 5,
   "metadata": {},
   "outputs": [
    {
     "name": "stdout",
     "output_type": "stream",
     "text": [
      "[1, 2, 3, 4, 5, 6, 7, 8, 9, 10, 11, 12, 13, 14, 15]\n"
     ]
    }
   ],
   "source": [
    "liste = [[1,2,3],[4,5,6,7,8],[9,10,11,12,13,14,15]]\n",
    "liste2 = [x for i in liste for x in i]\n",
    "print(liste2)"
   ]
  },
  {
   "cell_type": "code",
   "execution_count": 6,
   "metadata": {},
   "outputs": [
    {
     "name": "stdout",
     "output_type": "stream",
     "text": [
      "[1, 2, 3, 5, 6, 7, 8, 10]\n"
     ]
    }
   ],
   "source": [
    "liste1 = [1,2,3,4,5,6,7,8,9,10]\n",
    "liste2 = [i for i in liste1 if not(i == 4 or i == 9)]\n",
    "print(liste2)"
   ]
  },
  {
   "cell_type": "markdown",
   "metadata": {},
   "source": [
    "## FONKSİYONLAR\n",
    "\n",
    "- Bir kodu bir çok yerde kullanmamız gerekiyorsa, her yerde tekrar tekrar yazmayı önler. Programlamanın temeli: DRY(Don't Repeat Yourself)\n",
    "- Fonksiyonların içindeki değişkenler yereldir, yani bir fonksiyonun içinde bir değişken tanımladığınızda, o değişkeni fonksiyonun dışında çağıramayız. Çünkü o değişken o fonksiyona özeldir ve globalde kullanılamaz.\n",
    "- Ne zaman bir fonksiyon çağrılırsa, fonksiyonu yazdıktan sonra yapmalısınız.\n",
    "- Fonksiyon tanımlamanın yapısı şu şekildedir;\n",
    "\n",
    "        def fonksiyon_adi(parametre1,parametre2,...)\n",
    "            #fonksiyon blogu\n",
    "            yapilacak islem\n",
    "            #donus degeri (opsiyonel)\n",
    "\n",
    "- Tanımlanan bir fonksiyonun kullanılmasına programlama dillerinde Fonksiyon Çağrısı denmektedir. O halde selamla fonksiyonumuzu nasıl çağıracağımızı öğrenelim. Fonksiyon çağrısı şu şekilde yapılabilmektedir;\n",
    "\n",
    "        fonksiyon_adi(Arguman1,Arguman2,...)\n",
    "        "
   ]
  },
  {
   "cell_type": "code",
   "execution_count": 9,
   "metadata": {},
   "outputs": [
    {
     "name": "stdout",
     "output_type": "stream",
     "text": [
      "merhaba!\n",
      "merhaba!\n"
     ]
    }
   ],
   "source": [
    "def selamla():\n",
    "    print(\"merhaba!\")\n",
    "\n",
    "selamla()\n",
    "selamla()"
   ]
  },
  {
   "cell_type": "markdown",
   "metadata": {},
   "source": [
    "## ARGUMAN:\n",
    "- işlev çağrılırken parantez içindeki işlevlere iletilen değerler (string,number vb.)(örn: islev_adi(arguman))\n",
    "- Eğer fonksiyon çağrılırken bir argüman yoksa, bu argümanın değeri None olacaktır. Bu nedenle fonksiyonun içinde ifade edilecek bir değer yoksa, belirlenen değeri kullanmalıdır.\n",
    "\n",
    "        def helloWorld(name = \"ziyaretci\"):\n",
    "            print(\"merhaba \", name)\n",
    "\n",
    "- Birden fazla parametre olabilir. Her biri virgülle ayrılır.\n",
    "- arguman = parametre"
   ]
  },
  {
   "cell_type": "code",
   "execution_count": 10,
   "metadata": {},
   "outputs": [
    {
     "name": "stdout",
     "output_type": "stream",
     "text": [
      "merhaba  ziyaretci\n",
      "merhaba  miray\n"
     ]
    }
   ],
   "source": [
    "def helloWorld(name = \"ziyaretci\"):\n",
    "    print(\"merhaba \", name)\n",
    "\n",
    "helloWorld()\n",
    "helloWorld(\"miray\")"
   ]
  },
  {
   "cell_type": "code",
   "execution_count": 12,
   "metadata": {},
   "outputs": [
    {
     "name": "stdout",
     "output_type": "stream",
     "text": [
      "63\n"
     ]
    }
   ],
   "source": [
    "def topla(sayi1, sayi2, sayi3):\n",
    "    toplam = sayi1 + sayi2 + sayi3\n",
    "    print(toplam)\n",
    "\n",
    "topla(5,37,21)"
   ]
  },
  {
   "cell_type": "code",
   "execution_count": 15,
   "metadata": {},
   "outputs": [
    {
     "name": "stdout",
     "output_type": "stream",
     "text": [
      "siteme hosgeldin miray topcu\n",
      "siteme hosgeldin ali aksu\n",
      "siteme hosgeldin ayse topcu\n"
     ]
    }
   ],
   "source": [
    "def merhaba(name = \"miray\", surname = \"topcu\"):\n",
    "    print(f\"siteme hosgeldin {name} {surname}\")\n",
    "\n",
    "merhaba()\n",
    "merhaba(\"ali\",\"aksu\")\n",
    "merhaba(\"ayse\")\n"
   ]
  },
  {
   "cell_type": "code",
   "execution_count": 16,
   "metadata": {},
   "outputs": [
    {
     "name": "stdout",
     "output_type": "stream",
     "text": [
      "1\n",
      "9\n",
      "18\n",
      "90\n"
     ]
    }
   ],
   "source": [
    "def carp(num1 = 1, num2 = 1, num3 = 1):\n",
    "    carpim = num1 * num2 * num3\n",
    "    print(carpim)\n",
    "\n",
    "carp()\n",
    "carp(9)\n",
    "carp(9,2)\n",
    "carp(9,2,5)"
   ]
  },
  {
   "cell_type": "code",
   "execution_count": 19,
   "metadata": {},
   "outputs": [
    {
     "name": "stdout",
     "output_type": "stream",
     "text": [
      "hola!\n",
      "bonjour!\n",
      "hello!\n",
      "merhaba!\n"
     ]
    },
    {
     "ename": "TypeError",
     "evalue": "yabanci() missing 1 required positional argument: 'dil'",
     "output_type": "error",
     "traceback": [
      "\u001b[1;31m---------------------------------------------------------------------------\u001b[0m",
      "\u001b[1;31mTypeError\u001b[0m                                 Traceback (most recent call last)",
      "Cell \u001b[1;32mIn[19], line 15\u001b[0m\n\u001b[0;32m     13\u001b[0m yabanci(\u001b[38;5;124m\"\u001b[39m\u001b[38;5;124men\u001b[39m\u001b[38;5;124m\"\u001b[39m)\n\u001b[0;32m     14\u001b[0m yabanci(\u001b[38;5;124m\"\u001b[39m\u001b[38;5;124malm\u001b[39m\u001b[38;5;124m\"\u001b[39m)\n\u001b[1;32m---> 15\u001b[0m \u001b[43myabanci\u001b[49m\u001b[43m(\u001b[49m\u001b[43m)\u001b[49m \u001b[38;5;66;03m#default tanımlamadığın için none parameter giremezsin ondan hata verdi\u001b[39;00m\n",
      "\u001b[1;31mTypeError\u001b[0m: yabanci() missing 1 required positional argument: 'dil'"
     ]
    }
   ],
   "source": [
    "def yabanci(dil):\n",
    "    if dil == \"es\":\n",
    "        print(\"hola!\")\n",
    "    elif dil == \"fr\":\n",
    "        print(\"bonjour!\")\n",
    "    elif dil == \"en\":\n",
    "        print(\"hello!\")\n",
    "    else:\n",
    "        print(\"merhaba!\")\n",
    "\n",
    "yabanci(\"es\")\n",
    "yabanci(\"fr\")\n",
    "yabanci(\"en\")\n",
    "yabanci(\"alm\")\n",
    "yabanci() #default tanımlamadığın için none parameter giremezsin ondan hata verdi"
   ]
  },
  {
   "cell_type": "markdown",
   "metadata": {},
   "source": [
    "### return\n",
    "- Kodun tamamında kullanmak için işlevin kodu tamamlandıktan sonra kalan değeri (sonuç değeri) döndürür.\n",
    "- \"return\" anahtar sözcüğünden sonraki kodlar yürütülmez. Bu, görmezden gelindikleri anlamına gelir.\n",
    "- return yardımıyla fonksiyonlar değerleri çağrıldığı yere döndürebilir ve biz de bu değerleri istediğimiz yerde kullanabiliriz."
   ]
  },
  {
   "cell_type": "code",
   "execution_count": 20,
   "metadata": {},
   "outputs": [
    {
     "name": "stdout",
     "output_type": "stream",
     "text": [
      "100.0\n"
     ]
    }
   ],
   "source": [
    "def dikUcgenAlani(a,b):\n",
    "    return (a*b)/2\n",
    "\n",
    "print(dikUcgenAlani(10,20))"
   ]
  },
  {
   "cell_type": "markdown",
   "metadata": {},
   "source": [
    "### *args\n",
    "\n",
    "- Sınırsız sayıda parametreli fonksiyon oluşturmak için parametremizin önüne tek yıldız (*) koyabiliriz.\n",
    "- İsimsiz argümanlardır."
   ]
  },
  {
   "cell_type": "code",
   "execution_count": 21,
   "metadata": {},
   "outputs": [
    {
     "name": "stdout",
     "output_type": "stream",
     "text": [
      "(4,)\n",
      "(4, 5, 6, 7, 8, 9)\n"
     ]
    }
   ],
   "source": [
    "def sayilar(*x):\n",
    "    print(x)\n",
    "\n",
    "sayilar(4)\n",
    "sayilar(4,5,6,7,8,9)"
   ]
  },
  {
   "cell_type": "code",
   "execution_count": 22,
   "metadata": {},
   "outputs": [
    {
     "name": "stdout",
     "output_type": "stream",
     "text": [
      "0\n",
      "66\n",
      "55\n"
     ]
    }
   ],
   "source": [
    "def topla(*x):\n",
    "    toplam = 0\n",
    "    for i in x:\n",
    "        toplam += i\n",
    "    print(toplam)\n",
    "\n",
    "topla()\n",
    "topla(12,24,30)\n",
    "topla(1,2,3,4,5,6,7,8,9,10)"
   ]
  },
  {
   "cell_type": "markdown",
   "metadata": {},
   "source": [
    "### **kwargs\n",
    "\n",
    "- Çift yıldızlı parametrelerin (**) tek yıldızlı parametrelerden en büyük farkı, fonksiyonu çağırırken anahtar değer ilişkisiyle çağırabilmemizdir. \n",
    "- İsimli argümanlardır."
   ]
  },
  {
   "cell_type": "code",
   "execution_count": 23,
   "metadata": {},
   "outputs": [
    {
     "name": "stdout",
     "output_type": "stream",
     "text": [
      "{'ad': 'miray', 'soyad': 'topcu', 'yas': 20}\n"
     ]
    }
   ],
   "source": [
    "def kimlikGoster(**kimlik):\n",
    "    print(kimlik)\n",
    "\n",
    "kimlikGoster(ad = \"miray\", soyad = \"topcu\", yas = 20)\n"
   ]
  },
  {
   "cell_type": "code",
   "execution_count": 25,
   "metadata": {},
   "outputs": [
    {
     "name": "stdout",
     "output_type": "stream",
     "text": [
      "10\n",
      "(20, 30, 40, 50)\n",
      "60\n",
      "{'ad': 'miray', 'soyad': 'topcu', 'yas': 20}\n"
     ]
    }
   ],
   "source": [
    "def ornek(a, *sayilar, b, **kimlik):\n",
    "    print(a)\n",
    "    print(sayilar)\n",
    "    print(b)\n",
    "    print(kimlik)\n",
    "\n",
    "ornek(10, 20, 30, 40, 50, b = 60, ad = \"miray\", soyad = \"topcu\", yas = 20)"
   ]
  },
  {
   "cell_type": "markdown",
   "metadata": {},
   "source": [
    "## Pass Deyimi\n",
    "\n",
    "- Python programlamasında pass ifadesi null değer atamak için kullanılır. Pythondaki bir açıklama ve geçiş ifadesi arasındaki fark, yorumlayıcı bir yorumu tamamen yok sayarken, geçişin göz ardı edilmemesidir."
   ]
  },
  {
   "cell_type": "code",
   "execution_count": 27,
   "metadata": {},
   "outputs": [],
   "source": [
    "def carp(*sayilar):\n",
    "    for sayi in sayilar:\n",
    "        pass\n",
    "\n",
    "carp(2,5)"
   ]
  },
  {
   "cell_type": "markdown",
   "metadata": {},
   "source": [
    "## GLOBAL VE YEREL DEGISKENLER\n",
    "\n",
    "- Global değişken fonksiyonlarımızın dışında tanımladığımız değişkenlerdir.\n",
    "- Yerel değişkenler ise fonksiyonlarımızın içinde tanımladığımız değişkenlerdir.\n",
    "- Fonksiyonun dışında tanımladığımız fonksiyonun içinde de kullanılabilirken, fonksiyonun içinde tanımladığımız fonksiyonun dışında kullanılamaz. "
   ]
  },
  {
   "cell_type": "code",
   "execution_count": 28,
   "metadata": {},
   "outputs": [
    {
     "ename": "NameError",
     "evalue": "name 'x' is not defined",
     "output_type": "error",
     "traceback": [
      "\u001b[1;31m---------------------------------------------------------------------------\u001b[0m",
      "\u001b[1;31mNameError\u001b[0m                                 Traceback (most recent call last)",
      "Cell \u001b[1;32mIn[28], line 6\u001b[0m\n\u001b[0;32m      3\u001b[0m     \u001b[38;5;28mprint\u001b[39m(x)\n\u001b[0;32m      5\u001b[0m yazdir2\n\u001b[1;32m----> 6\u001b[0m \u001b[38;5;28mprint\u001b[39m(\u001b[43mx\u001b[49m)\n",
      "\u001b[1;31mNameError\u001b[0m: name 'x' is not defined"
     ]
    }
   ],
   "source": [
    "def yazdir2():\n",
    "    x = 5\n",
    "    print(x)\n",
    "\n",
    "yazdir2\n",
    "print(x)"
   ]
  },
  {
   "cell_type": "code",
   "execution_count": 31,
   "metadata": {},
   "outputs": [
    {
     "name": "stdout",
     "output_type": "stream",
     "text": [
      "5\n",
      "5\n"
     ]
    }
   ],
   "source": [
    "def yazdir3():\n",
    "    global x\n",
    "    x = 5\n",
    "    print(x)\n",
    "yazdir3()\n",
    "print(x)"
   ]
  },
  {
   "cell_type": "markdown",
   "metadata": {},
   "source": [
    "bir fonksiyon kendi içerisinde çağrılırsa sonsuz döngüye girer.\n",
    "\n",
    "## Lambda Gosterimi\n",
    "\n",
    "- Pythonda isimsiz olarak tanımladığımız fonksiyonlara lambda fonksiyon denir.\n",
    "- Tek satırda yazılırlar.\n",
    "- Gösterimi: \n",
    "        fonksiyonAdi = lambda parametreler : yapilacakIslem"
   ]
  },
  {
   "cell_type": "code",
   "execution_count": 32,
   "metadata": {},
   "outputs": [
    {
     "data": {
      "text/plain": [
       "3.0"
      ]
     },
     "execution_count": 32,
     "metadata": {},
     "output_type": "execute_result"
    }
   ],
   "source": [
    "dikUcgenAlaniHesapla = lambda a,b : a*b/2\n",
    "dikUcgenAlani(2,3)"
   ]
  },
  {
   "cell_type": "code",
   "execution_count": 33,
   "metadata": {},
   "outputs": [
    {
     "data": {
      "text/plain": [
       "10"
      ]
     },
     "execution_count": 33,
     "metadata": {},
     "output_type": "execute_result"
    }
   ],
   "source": [
    "ikiyleCarp = lambda x : x*2\n",
    "ikiyleCarp(5)"
   ]
  },
  {
   "cell_type": "code",
   "execution_count": 34,
   "metadata": {},
   "outputs": [
    {
     "name": "stdout",
     "output_type": "stream",
     "text": [
      "yarim\n"
     ]
    }
   ],
   "source": [
    "ters = lambda s : s[::-1]\n",
    "print(ters(\"miray\"))"
   ]
  }
 ],
 "metadata": {
  "kernelspec": {
   "display_name": "Python 3",
   "language": "python",
   "name": "python3"
  },
  "language_info": {
   "codemirror_mode": {
    "name": "ipython",
    "version": 3
   },
   "file_extension": ".py",
   "mimetype": "text/x-python",
   "name": "python",
   "nbconvert_exporter": "python",
   "pygments_lexer": "ipython3",
   "version": "3.12.3"
  }
 },
 "nbformat": 4,
 "nbformat_minor": 2
}
