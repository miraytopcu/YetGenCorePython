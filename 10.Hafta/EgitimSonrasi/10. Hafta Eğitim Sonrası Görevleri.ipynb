{
 "cells": [
  {
   "attachments": {},
   "cell_type": "markdown",
   "metadata": {},
   "source": [
    "# Problem 1 "
   ]
  },
  {
   "cell_type": "code",
   "execution_count": 1,
   "metadata": {},
   "outputs": [
    {
     "name": "stdout",
     "output_type": "stream",
     "text": [
      "[12 34 56 43  7]\n",
      "[ 7 12 34 43 56]\n"
     ]
    }
   ],
   "source": [
    "# 1 - numpy kütüphanesini import edin\n",
    "import numpy as np\n",
    "# 2 - 5 elemanlı bir numpy array oluşturun\n",
    "v = np.array([12,34,56,43,7])\n",
    "# 3 - Oluşturduğunuz arrayi küçükten büyüğe sıralayın.\n",
    "print(v)\n",
    "v.sort()\n",
    "print(v)"
   ]
  },
  {
   "attachments": {},
   "cell_type": "markdown",
   "metadata": {},
   "source": [
    "# Problem 2"
   ]
  },
  {
   "cell_type": "code",
   "execution_count": 13,
   "metadata": {},
   "outputs": [
    {
     "name": "stdout",
     "output_type": "stream",
     "text": [
      "[10 15 30 45 60] \n",
      "\n",
      "[ 5  6  7  8  9 10 11 12 13 14 15] \n",
      "\n",
      "[ 50  55  60  65  70  75  80  85  90  95 100] \n",
      "\n",
      "[0. 0. 0. 0. 0. 0. 0. 0. 0. 0.] \n",
      "\n",
      "[1. 1. 1. 1. 1. 1. 1. 1. 1. 1.] \n",
      "\n",
      "[  0.  25.  50.  75. 100.] \n",
      "\n",
      "[27 15 29 19 28] \n",
      "\n",
      "[-0.92137687  0.48261955 -0.66289906  0.14608519 -0.56516319 -0.48176688\n",
      " -0.55466828 -0.26054711  0.83241765 -0.27260786] \n",
      "\n",
      "[[17 43 26 22 41]\n",
      " [31 46 19 46 33]\n",
      " [31 18 17 15 49]] \n",
      "\n",
      "satir toplam: [149 175 130]\n",
      "sutun toplam: [ 79 107  62  83 123]\n",
      "\n",
      "\n",
      "[10 11 12] \n",
      "\n",
      "[20 19 18 17 16 15 14 13 12 11 10] \n",
      "\n"
     ]
    }
   ],
   "source": [
    "# 1- (10,15,30,45,60) değerlerine sahip numpy dizisi oluşturunuz.\n",
    "a = np.array([10,15,30,45,60])\n",
    "print(a, \"\\n\")\n",
    "# 2- (5-15) arasındaki sayılarla numpy dizisi oluşturunuz.\n",
    "b = np.arange(5,16)\n",
    "print(b, \"\\n\")\n",
    "# 3- (50-100) arasında 5'er 5'er artarak numpy dizisi oluşturunuz.\n",
    "c = np.arange(50,101,5)\n",
    "print(c, \"\\n\")\n",
    "# 4- 10 elemanlı sıfırlardan oluşan bir dizi oluşturunuz.\n",
    "d = np.zeros(10)\n",
    "print(d, \"\\n\")\n",
    "# 5- 10 elemanlı birlerden oluşan bir dizi oluşturunuz.\n",
    "e = np.ones(10)\n",
    "print(e, \"\\n\")\n",
    "# 6- (0-100) arasında eşit aralıklı 5 sayı üretin.\n",
    "f = np.linspace(0,100,5)\n",
    "print(f, \"\\n\")\n",
    "# 7- (10-30) arasında rastgele 5 tane tamsayı üretin.\n",
    "g = np.random.randint(10,30,5)\n",
    "print(g, \"\\n\")\n",
    "# 8- [-1 ile 1] arasında 10 adet sayı üretin.\n",
    "h = np.random.uniform(-1, 1, 10)\n",
    "print(h, \"\\n\")\n",
    "# 9- (3x5) boyutlarında (10-50) arasında rastgele bir matris oluşturunuz.\n",
    "i = np.random.randint(10,50,15)\n",
    "i2 = i.reshape(3,5)\n",
    "print(i2, \"\\n\")\n",
    "# 10- Üretilen matrisin satır ve sütun sayıları toplamlarını hesaplayınız ?\n",
    "satir = np.sum(i2, axis=1)\n",
    "sutun = np.sum(i2, axis=0)\n",
    "print(f\"satir toplam: {satir}\")\n",
    "print(f\"sutun toplam: {sutun}\")\n",
    "print(\"\\n\")\n",
    "# 11- Üretilen matrisin en büyük, en küçük ve ortalaması nedir ?\n",
    "\n",
    "\n",
    "# 12- Üretilen matrisin en büyük değerinin indeksi kaçtır ?\n",
    "\n",
    "\n",
    "# 13- (10-20) arasındaki sayıları içeren dizinin ilk 3 elemanını seçiniz.\n",
    "j = np.arange(10,21)\n",
    "j2 = j[0:3]\n",
    "print(j2, \"\\n\")\n",
    "# 14- Üretilen dizinin elemanlarını tersten yazdırın.\n",
    "j3 = j[::-1]\n",
    "print(j3, \"\\n\")\n",
    "# 15- Üretilen matrisin ilk satırını seçiniz.\n",
    "\n",
    "\n",
    "# 16- Üretilen matrisin 2.satır 3.sütundaki elemanı hangisidir ?\n",
    "\n",
    "\n",
    "# 17- Üretilen matrisin tüm satırlardaki ilk elemanı seçiniz.\n",
    "\n",
    "\n",
    "# 18- Üretilen matrisin her bir elemanının karesini alınız.\n",
    "\n",
    "\n",
    "# 19- Üretilen matris elemanlarının hangisi pozitif çift sayıdır ? Aralığı (-50,+50) arasında yapınız.\n"
   ]
  }
 ],
 "metadata": {
  "kernelspec": {
   "display_name": "Python 3",
   "language": "python",
   "name": "python3"
  },
  "language_info": {
   "codemirror_mode": {
    "name": "ipython",
    "version": 3
   },
   "file_extension": ".py",
   "mimetype": "text/x-python",
   "name": "python",
   "nbconvert_exporter": "python",
   "pygments_lexer": "ipython3",
   "version": "3.12.3"
  },
  "orig_nbformat": 4,
  "vscode": {
   "interpreter": {
    "hash": "5026d2d6e7aaaaba093def813beadff083d8733e4a511af01735cbabd156995d"
   }
  }
 },
 "nbformat": 4,
 "nbformat_minor": 2
}
