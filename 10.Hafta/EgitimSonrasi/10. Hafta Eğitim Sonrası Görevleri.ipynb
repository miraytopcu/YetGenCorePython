{
 "cells": [
  {
   "attachments": {},
   "cell_type": "markdown",
   "metadata": {},
   "source": [
    "# Problem 1 "
   ]
  },
  {
   "cell_type": "code",
   "execution_count": 2,
   "metadata": {},
   "outputs": [
    {
     "name": "stdout",
     "output_type": "stream",
     "text": [
      "[12 34 56 43  7]\n",
      "[ 7 12 34 43 56]\n"
     ]
    }
   ],
   "source": [
    "# 1 - numpy kütüphanesini import edin\n",
    "import numpy as np\n",
    "# 2 - 5 elemanlı bir numpy array oluşturun\n",
    "v = np.array([12,34,56,43,7])\n",
    "# 3 - Oluşturduğunuz arrayi küçükten büyüğe sıralayın.\n",
    "print(v)\n",
    "v.sort()\n",
    "print(v)"
   ]
  },
  {
   "attachments": {},
   "cell_type": "markdown",
   "metadata": {},
   "source": [
    "# Problem 2"
   ]
  },
  {
   "cell_type": "code",
   "execution_count": 11,
   "metadata": {},
   "outputs": [
    {
     "name": "stdout",
     "output_type": "stream",
     "text": [
      "(1) [10 15 30 45 60] \n",
      "\n",
      "(2) [ 5  6  7  8  9 10 11 12 13 14 15] \n",
      "\n",
      "(3) [ 50  55  60  65  70  75  80  85  90  95 100] \n",
      "\n",
      "(4) [0. 0. 0. 0. 0. 0. 0. 0. 0. 0.] \n",
      "\n",
      "(5) [1. 1. 1. 1. 1. 1. 1. 1. 1. 1.] \n",
      "\n",
      "(6) [  0.  25.  50.  75. 100.] \n",
      "\n",
      "(7) [27 21 10 19 21] \n",
      "\n",
      "(8) [ 0.23872807  0.34020151  0.44702698 -0.8834505  -0.51610664 -0.40551907\n",
      " -0.96380662  0.57263526  0.80033646  0.47095535] \n",
      "\n",
      "(9) [[26 45 38 36 40]\n",
      " [11 20 28 12 46]\n",
      " [15 11 39 30 27]] \n",
      "\n",
      "(10) satir toplam: [185 117 122]\n",
      "sutun toplam: [ 52  76 105  78 113]\n",
      "\n",
      "\n",
      "(11) max: 46\n",
      "\n",
      "min: 11\n",
      "\n",
      "average: 28.266666666666666\n",
      "\n",
      "(12) (np.int64(1), np.int64(4))\n",
      "(13) [10 11 12] \n",
      "\n",
      "(14) [20 19 18 17 16 15 14 13 12 11 10] \n",
      "\n",
      "(15) [26 45 38 36 40] \n",
      "\n",
      "(16) 28 \n",
      "\n",
      "(17) (np.int32(26), np.int32(11), np.int32(15)) \n",
      "\n",
      "[18] [[ 676 2025 1444 1296 1600]\n",
      " [ 121  400  784  144 2116]\n",
      " [ 225  121 1521  900  729]] \n",
      "\n",
      "(19) [44 43 45 30 10 11 45]\n"
     ]
    }
   ],
   "source": [
    "# 1- (10,15,30,45,60) değerlerine sahip numpy dizisi oluşturunuz.\n",
    "a = np.array([10,15,30,45,60])\n",
    "print(\"(1)\", a, \"\\n\")\n",
    "# 2- (5-15) arasındaki sayılarla numpy dizisi oluşturunuz.\n",
    "b = np.arange(5,16)\n",
    "print(\"(2)\", b, \"\\n\")\n",
    "# 3- (50-100) arasında 5'er 5'er artarak numpy dizisi oluşturunuz.\n",
    "c = np.arange(50,101,5)\n",
    "print(\"(3)\", c, \"\\n\")\n",
    "# 4- 10 elemanlı sıfırlardan oluşan bir dizi oluşturunuz.\n",
    "d = np.zeros(10)\n",
    "print(\"(4)\", d, \"\\n\")\n",
    "# 5- 10 elemanlı birlerden oluşan bir dizi oluşturunuz.\n",
    "e = np.ones(10)\n",
    "print(\"(5)\", e, \"\\n\")\n",
    "# 6- (0-100) arasında eşit aralıklı 5 sayı üretin.\n",
    "f = np.linspace(0,100,5)\n",
    "print(\"(6)\", f, \"\\n\")\n",
    "# 7- (10-30) arasında rastgele 5 tane tamsayı üretin.\n",
    "g = np.random.randint(10,30,5)\n",
    "print(\"(7)\", g, \"\\n\")\n",
    "# 8- [-1 ile 1] arasında 10 adet sayı üretin.\n",
    "h = np.random.uniform(-1, 1, 10)\n",
    "print(\"(8)\", h, \"\\n\")\n",
    "# 9- (3x5) boyutlarında (10-50) arasında rastgele bir matris oluşturunuz.\n",
    "i = np.random.randint(10,50,15)\n",
    "i2 = i.reshape(3,5)\n",
    "print(\"(9)\", i2, \"\\n\")\n",
    "# 10- Üretilen matrisin satır ve sütun sayıları toplamlarını hesaplayınız ?\n",
    "satir = np.sum(i2, axis=1)\n",
    "sutun = np.sum(i2, axis=0)\n",
    "print(\"(10)\", f\"satir toplam: {satir}\")\n",
    "print(f\"sutun toplam: {sutun}\")\n",
    "print(\"\\n\")\n",
    "# 11- Üretilen matrisin en büyük, en küçük ve ortalaması nedir ?\n",
    "max_value = np.max(i2)\n",
    "min_value = np.min(i2)\n",
    "mean_value = np.mean(i2)\n",
    "print(f\"(11) max: {max_value}\\n\")\n",
    "print(f\"min: {min_value}\\n\")\n",
    "print(f\"average: {mean_value}\\n\")\n",
    "# 12- Üretilen matrisin en büyük değerinin indeksi kaçtır ?\n",
    "ind = np.unravel_index(np.argmax(i2),i2.shape)\n",
    "print(f\"(12) {ind}\")\n",
    "# 13- (10-20) arasındaki sayıları içeren dizinin ilk 3 elemanını seçiniz.\n",
    "j = np.arange(10,21)\n",
    "j2 = j[0:3]\n",
    "print(\"(13)\", j2, \"\\n\")\n",
    "# 14- Üretilen dizinin elemanlarını tersten yazdırın.\n",
    "j3 = j[::-1]\n",
    "print(\"(14)\", j3, \"\\n\")\n",
    "# 15- Üretilen matrisin ilk satırını seçiniz.\n",
    "print(f\"(15) {i2[0]} \\n\")\n",
    "# 16- Üretilen matrisin 2.satır 3.sütundaki elemanı hangisidir ?\n",
    "print(f\"(16) {i2[1,2]} \\n\")\n",
    "# 17- Üretilen matrisin tüm satırlardaki ilk elemanı seçiniz.\n",
    "print(f\"(17) {i2[0,0] , i2[1,0] , i2[2,0]} \\n\")\n",
    "# 18- Üretilen matrisin her bir elemanının karesini alınız.\n",
    "print(f\"[18] {i2 ** 2} \\n\")\n",
    "# 19- Üretilen matris elemanlarının hangisi pozitif çift sayıdır ? Aralığı (-50,+50) arasında yapınız.\n",
    "k = np.random.randint(-50, 50, 15)\n",
    "print(f\"(19) {k[k > 0]}\")"
   ]
  }
 ],
 "metadata": {
  "kernelspec": {
   "display_name": "Python 3",
   "language": "python",
   "name": "python3"
  },
  "language_info": {
   "codemirror_mode": {
    "name": "ipython",
    "version": 3
   },
   "file_extension": ".py",
   "mimetype": "text/x-python",
   "name": "python",
   "nbconvert_exporter": "python",
   "pygments_lexer": "ipython3",
   "version": "3.12.3"
  },
  "orig_nbformat": 4,
  "vscode": {
   "interpreter": {
    "hash": "5026d2d6e7aaaaba093def813beadff083d8733e4a511af01735cbabd156995d"
   }
  }
 },
 "nbformat": 4,
 "nbformat_minor": 2
}
