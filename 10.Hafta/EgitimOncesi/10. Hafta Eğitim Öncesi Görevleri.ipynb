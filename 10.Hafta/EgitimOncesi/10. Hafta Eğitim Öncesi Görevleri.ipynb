{
 "cells": [
  {
   "attachments": {},
   "cell_type": "markdown",
   "metadata": {},
   "source": [
    "# Problem 1"
   ]
  },
  {
   "cell_type": "code",
   "execution_count": 5,
   "metadata": {},
   "outputs": [
    {
     "name": "stdout",
     "output_type": "stream",
     "text": [
      "boyut:  (5,)\n",
      "[[5 8 8 2 3]] \n",
      "\n",
      "boyut sayısı(v):  1\n",
      "boyut sayısı(z):  2\n"
     ]
    }
   ],
   "source": [
    "# 1 - numpy kütüphanesini import edin\n",
    "import numpy as np\n",
    "# 2 - 0 ile 10 arasında 5 sayıdan oluşan matris üretin\n",
    "v = np.random.randint(0,10,5)\n",
    "# 3 - matris'in boyutunu öğrenin\n",
    "print(\"boyut: \", v.shape)\n",
    "# 4 - matris'i yeniden boyutlandırın\n",
    "z = v.reshape(1,5)\n",
    "print(z, \"\\n\")\n",
    "# 5 - matris'in boyut sayısını öğrenin\n",
    "print(\"boyut sayısı(v): \", v.ndim)\n",
    "print(\"boyut sayısı(z): \", z.ndim)"
   ]
  },
  {
   "attachments": {},
   "cell_type": "markdown",
   "metadata": {},
   "source": [
    "# Problem 2"
   ]
  },
  {
   "cell_type": "code",
   "execution_count": 9,
   "metadata": {},
   "outputs": [
    {
     "name": "stdout",
     "output_type": "stream",
     "text": [
      "[ 0  2  4  6  8 10]\n",
      "[0 2]\n",
      "[4 6]\n",
      "[ 8 10]\n",
      "[ 0  2  4  6  8 10]\n"
     ]
    }
   ],
   "source": [
    "# 1 - 0 ile 10 arasında bulunan tek sayılardan oluşan matris üretin\n",
    "a = np.arange(0,11,2)\n",
    "print(a)\n",
    "# 2 - Oluşturduğunuz matrisi parçalayın\n",
    "x,y,z = np.split(a,[2,4])\n",
    "print(x)\n",
    "print(y)\n",
    "print(z)\n",
    "# 3 - Parçalanmış matrisleri birleştirin\n",
    "print(np.concatenate([x,y,z]))"
   ]
  },
  {
   "attachments": {},
   "cell_type": "markdown",
   "metadata": {},
   "source": [
    "# Problem 3"
   ]
  },
  {
   "cell_type": "code",
   "execution_count": 11,
   "metadata": {},
   "outputs": [
    {
     "name": "stdout",
     "output_type": "stream",
     "text": [
      "[19 67 55 39 21 73 81 49 87 17]\n",
      "(10,)\n",
      "1\n",
      "10\n",
      "int64\n"
     ]
    }
   ],
   "source": [
    "# 1 - 5 ile 100 arasında ikişer ikişer atlayarak rastgele 10 sayıdan oluşan matris üretin\n",
    "n = np.arange(5, 101, 2)\n",
    "rn = np.random.choice(n,10)\n",
    "print(rn)\n",
    "# 2 - matris'in özelliklerini inceleyin\n",
    "print(rn.shape)\n",
    "print(rn.ndim)\n",
    "print(rn.size)\n",
    "print(rn.dtype)"
   ]
  }
 ],
 "metadata": {
  "kernelspec": {
   "display_name": "Python 3",
   "language": "python",
   "name": "python3"
  },
  "language_info": {
   "codemirror_mode": {
    "name": "ipython",
    "version": 3
   },
   "file_extension": ".py",
   "mimetype": "text/x-python",
   "name": "python",
   "nbconvert_exporter": "python",
   "pygments_lexer": "ipython3",
   "version": "3.12.3"
  },
  "orig_nbformat": 4,
  "vscode": {
   "interpreter": {
    "hash": "5026d2d6e7aaaaba093def813beadff083d8733e4a511af01735cbabd156995d"
   }
  }
 },
 "nbformat": 4,
 "nbformat_minor": 2
}
