{
 "cells": [
  {
   "cell_type": "markdown",
   "metadata": {},
   "source": [
    "# Bu sitelerin API var mı araştır:\n",
    "- Trivago yoksa Booking(otel için)                      https://developer.trivago.com/conversiontracking/conversion-api.html\n",
    "- THY yoksa Pegasus(uçak için)                          https://developer.turkishairlines.com/api-catalog\n",
    "- Obilet (otobüs için) !!!Hiçbir otobüs firması için API bulamadım\n",
    "- Maps (harita/şehirler arası uzaklık vs için)          https://developers.google.com/maps/documentation?hl=tr"
   ]
  },
  {
   "cell_type": "code",
   "execution_count": null,
   "metadata": {},
   "outputs": [],
   "source": [
    "import random\n",
    "import datetime\n",
    "import numpy as np\n",
    "import requests\n",
    "import pandas as pd\n",
    "\n",
    "\"\"\"\n",
    "NOTLAR:\n",
    "- Kaldiğin şehre göre fiyat artip azalabilecek.\n",
    "- Elimde harcayabileceğim max şu kadra param var, bana min fiyata yapabileceğim tatilleri listeler misin\n",
    "\"\"\"\n",
    "\n",
    "class musteri():\n",
    "    def __init__(self,b):\n",
    "        self.b = b\n",
    "    \n",
    "    def kriterler():\n",
    "        # input al: kişi sayısı, bütçe aralığı, kalkış/varış noktaları\n",
    "        # zorunlu olmayan input: lokasyonda kararsızsa seyahat türü seçebilir (deniz, lezzet, kültürel)\n",
    "        # ekstra hizmet: rehber ister mi\n",
    "        pass\n",
    "    \n",
    "    def konaklama():\n",
    "        # otel, airbnb, kamp vs\n",
    "        # seçenekler arasında fiyat farkı uygulanacak!\n",
    "        pass\n",
    "    \n",
    "    def ulasim():\n",
    "        # uçak ve otobüs öncelikli\n",
    "        # tren ve araba opsiyonel, vakit kalırsa\n",
    "        pass\n",
    "        \n",
    "    def fiyat_hesaplayici(): \n",
    "        # kampanya, ödeme yöntemi, şehir farkı gibi bütün fonksiyonların sonucu en son burada toplanıp kullanıcıya output versin\n",
    "        pass\n",
    "        \n",
    "    def odeme_yontemi():\n",
    "        # kredi kartı/ nakit/ havale\n",
    "        # kredi kartı seçilirse komisyon al, taksit seçeneği gelsin\n",
    "        pass\n",
    "    def odeme_yapma():\n",
    "        # print(\"ödeme yapıldı, iyi tatiller vs\")\n",
    "        pass\n",
    "        \n",
    "    def kampanya():\n",
    "        # random 2-3 tur paketine kampanya yap kullanıcı ona denk gelirse indirim \n",
    "        pass \n",
    "              \n",
    "\n",
    "# SORU!! Yurtiçi diye düşündük ama bulduğumuz APIler yurtdışı için geçerliyse/daha uygunsa planda değişiklik yapar mıyız\n",
    "\n",
    "class yurtici(musteri):\n",
    "    def __init__(self,b,a):\n",
    "        super().__init__(b)\n",
    "        self.a = a\n",
    "\n",
    "      \n",
    "class yurtdisi(musteri):\n",
    "    def __init__(self,b,a):\n",
    "        super().__init__(b)\n",
    "        self.a = a\n",
    "\n",
    "    \n"
   ]
  }
 ],
 "metadata": {
  "kernelspec": {
   "display_name": "Python 3",
   "language": "python",
   "name": "python3"
  },
  "language_info": {
   "codemirror_mode": {
    "name": "ipython",
    "version": 3
   },
   "file_extension": ".py",
   "mimetype": "text/x-python",
   "name": "python",
   "nbconvert_exporter": "python",
   "pygments_lexer": "ipython3",
   "version": "3.12.3"
  }
 },
 "nbformat": 4,
 "nbformat_minor": 2
}
