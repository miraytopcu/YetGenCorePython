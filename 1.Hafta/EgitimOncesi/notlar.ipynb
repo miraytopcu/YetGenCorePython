{
 "cells": [
  {
   "cell_type": "markdown",
   "metadata": {},
   "source": [
    "# GitHub'a Dosya Yükleme\n",
    "## Git Komutlarıyla\n",
    "\n",
    "## GitHub Desktop\n",
    "commit + push origin\n",
    "\n",
    "## IDE Yardımıyla\n",
    "source control + commit + sync changes\n",
    "\n",
    "## Sürükle Bırak\n",
    "daha sonrasında IDE'de source control commitslerden dosyayı bulup pull etmen gerekiyor "
   ]
  },
  {
   "cell_type": "markdown",
   "metadata": {},
   "source": [
    "** commit + push ** : yapılan değişikliği Githuba gönderir\n",
    "** pull ** : repodaki değişikliği bilgisayara çeker\n",
    "** clone ** : Githubda bulunan kodu bilgisayara çeker\n"
   ]
  },
  {
   "cell_type": "markdown",
   "metadata": {},
   "source": [
    "'#' işareti başlıklar için\n",
    "'** **' işareti bold\n",
    "'* *' işareti italic\n"
   ]
  },
  {
   "cell_type": "markdown",
   "metadata": {},
   "source": [
    "//[ad] (https://bilmem_ne)"
   ]
  },
  {
   "cell_type": "markdown",
   "metadata": {},
   "source": [
    "[GitHub Linkim](https://github.com/miraytopcu)"
   ]
  },
  {
   "cell_type": "markdown",
   "metadata": {},
   "source": [
    "Görsel Ekleme\n",
    "![Image](https://bilmem_ne)"
   ]
  },
  {
   "cell_type": "markdown",
   "metadata": {},
   "source": [
    "![Image](https://i.pinimg.com/564x/a2/22/00/a222004609fa5d15b866096a71a23ee1.jpg)"
   ]
  },
  {
   "cell_type": "markdown",
   "metadata": {},
   "source": []
  }
 ],
 "metadata": {
  "language_info": {
   "name": "python"
  }
 },
 "nbformat": 4,
 "nbformat_minor": 2
}
